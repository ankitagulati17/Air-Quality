{
 "cells": [
  {
   "cell_type": "code",
   "execution_count": 17,
   "id": "6be48b04-a7f5-431c-90e4-fef5e739cdca",
   "metadata": {},
   "outputs": [],
   "source": [
    "#imporing libraries \n",
    "import pandas as pd\n",
    "import matplotlib.pyplot as plt\n",
    "import numpy as np\n",
    "import seaborn as sns"
   ]
  },
  {
   "cell_type": "code",
   "execution_count": 18,
   "id": "47c98519-e782-4490-82d5-e6bdd69b6d70",
   "metadata": {},
   "outputs": [
    {
     "data": {
      "text/html": [
       "<div>\n",
       "<style scoped>\n",
       "    .dataframe tbody tr th:only-of-type {\n",
       "        vertical-align: middle;\n",
       "    }\n",
       "\n",
       "    .dataframe tbody tr th {\n",
       "        vertical-align: top;\n",
       "    }\n",
       "\n",
       "    .dataframe thead th {\n",
       "        text-align: right;\n",
       "    }\n",
       "</style>\n",
       "<table border=\"1\" class=\"dataframe\">\n",
       "  <thead>\n",
       "    <tr style=\"text-align: right;\">\n",
       "      <th></th>\n",
       "      <th>RecordID</th>\n",
       "      <th>AQI</th>\n",
       "      <th>PM10</th>\n",
       "      <th>PM2_5</th>\n",
       "      <th>NO2</th>\n",
       "      <th>SO2</th>\n",
       "      <th>O3</th>\n",
       "      <th>Temperature</th>\n",
       "      <th>Humidity</th>\n",
       "      <th>WindSpeed</th>\n",
       "      <th>RespiratoryCases</th>\n",
       "      <th>CardiovascularCases</th>\n",
       "      <th>HospitalAdmissions</th>\n",
       "      <th>HealthImpactScore</th>\n",
       "      <th>HealthImpactClass</th>\n",
       "    </tr>\n",
       "  </thead>\n",
       "  <tbody>\n",
       "    <tr>\n",
       "      <th>0</th>\n",
       "      <td>1</td>\n",
       "      <td>187.270059</td>\n",
       "      <td>295.853039</td>\n",
       "      <td>13.038560</td>\n",
       "      <td>6.639263</td>\n",
       "      <td>66.161150</td>\n",
       "      <td>54.624280</td>\n",
       "      <td>5.150335</td>\n",
       "      <td>84.424344</td>\n",
       "      <td>6.137755</td>\n",
       "      <td>7</td>\n",
       "      <td>5</td>\n",
       "      <td>1</td>\n",
       "      <td>97.244041</td>\n",
       "      <td>0.0</td>\n",
       "    </tr>\n",
       "    <tr>\n",
       "      <th>1</th>\n",
       "      <td>2</td>\n",
       "      <td>475.357153</td>\n",
       "      <td>246.254703</td>\n",
       "      <td>9.984497</td>\n",
       "      <td>16.318326</td>\n",
       "      <td>90.499523</td>\n",
       "      <td>169.621728</td>\n",
       "      <td>1.543378</td>\n",
       "      <td>46.851415</td>\n",
       "      <td>4.521422</td>\n",
       "      <td>10</td>\n",
       "      <td>2</td>\n",
       "      <td>0</td>\n",
       "      <td>100.000000</td>\n",
       "      <td>0.0</td>\n",
       "    </tr>\n",
       "    <tr>\n",
       "      <th>2</th>\n",
       "      <td>3</td>\n",
       "      <td>365.996971</td>\n",
       "      <td>84.443191</td>\n",
       "      <td>23.111340</td>\n",
       "      <td>96.317811</td>\n",
       "      <td>17.875850</td>\n",
       "      <td>9.006794</td>\n",
       "      <td>1.169483</td>\n",
       "      <td>17.806977</td>\n",
       "      <td>11.157384</td>\n",
       "      <td>13</td>\n",
       "      <td>3</td>\n",
       "      <td>0</td>\n",
       "      <td>100.000000</td>\n",
       "      <td>0.0</td>\n",
       "    </tr>\n",
       "    <tr>\n",
       "      <th>3</th>\n",
       "      <td>4</td>\n",
       "      <td>299.329242</td>\n",
       "      <td>21.020609</td>\n",
       "      <td>14.273403</td>\n",
       "      <td>81.234403</td>\n",
       "      <td>48.323616</td>\n",
       "      <td>93.161033</td>\n",
       "      <td>21.925276</td>\n",
       "      <td>99.473373</td>\n",
       "      <td>15.302500</td>\n",
       "      <td>8</td>\n",
       "      <td>8</td>\n",
       "      <td>1</td>\n",
       "      <td>100.000000</td>\n",
       "      <td>0.0</td>\n",
       "    </tr>\n",
       "    <tr>\n",
       "      <th>4</th>\n",
       "      <td>5</td>\n",
       "      <td>78.009320</td>\n",
       "      <td>16.987667</td>\n",
       "      <td>152.111623</td>\n",
       "      <td>121.235461</td>\n",
       "      <td>90.866167</td>\n",
       "      <td>241.795138</td>\n",
       "      <td>9.217517</td>\n",
       "      <td>24.906837</td>\n",
       "      <td>14.534733</td>\n",
       "      <td>9</td>\n",
       "      <td>0</td>\n",
       "      <td>1</td>\n",
       "      <td>95.182643</td>\n",
       "      <td>0.0</td>\n",
       "    </tr>\n",
       "    <tr>\n",
       "      <th>...</th>\n",
       "      <td>...</td>\n",
       "      <td>...</td>\n",
       "      <td>...</td>\n",
       "      <td>...</td>\n",
       "      <td>...</td>\n",
       "      <td>...</td>\n",
       "      <td>...</td>\n",
       "      <td>...</td>\n",
       "      <td>...</td>\n",
       "      <td>...</td>\n",
       "      <td>...</td>\n",
       "      <td>...</td>\n",
       "      <td>...</td>\n",
       "      <td>...</td>\n",
       "      <td>...</td>\n",
       "    </tr>\n",
       "    <tr>\n",
       "      <th>5806</th>\n",
       "      <td>5807</td>\n",
       "      <td>171.112762</td>\n",
       "      <td>11.246387</td>\n",
       "      <td>197.984628</td>\n",
       "      <td>158.643107</td>\n",
       "      <td>17.743678</td>\n",
       "      <td>280.370909</td>\n",
       "      <td>37.359323</td>\n",
       "      <td>61.707640</td>\n",
       "      <td>4.097129</td>\n",
       "      <td>14</td>\n",
       "      <td>5</td>\n",
       "      <td>2</td>\n",
       "      <td>100.000000</td>\n",
       "      <td>4.0</td>\n",
       "    </tr>\n",
       "    <tr>\n",
       "      <th>5807</th>\n",
       "      <td>5808</td>\n",
       "      <td>490.691667</td>\n",
       "      <td>275.340762</td>\n",
       "      <td>55.774170</td>\n",
       "      <td>132.336871</td>\n",
       "      <td>29.334724</td>\n",
       "      <td>108.043492</td>\n",
       "      <td>34.532542</td>\n",
       "      <td>21.528555</td>\n",
       "      <td>6.682549</td>\n",
       "      <td>8</td>\n",
       "      <td>6</td>\n",
       "      <td>2</td>\n",
       "      <td>100.000000</td>\n",
       "      <td>3.0</td>\n",
       "    </tr>\n",
       "    <tr>\n",
       "      <th>5808</th>\n",
       "      <td>5809</td>\n",
       "      <td>314.841798</td>\n",
       "      <td>41.892699</td>\n",
       "      <td>184.708551</td>\n",
       "      <td>82.105823</td>\n",
       "      <td>68.334578</td>\n",
       "      <td>105.568503</td>\n",
       "      <td>22.975564</td>\n",
       "      <td>92.725625</td>\n",
       "      <td>2.889698</td>\n",
       "      <td>12</td>\n",
       "      <td>2</td>\n",
       "      <td>3</td>\n",
       "      <td>100.000000</td>\n",
       "      <td>1.0</td>\n",
       "    </tr>\n",
       "    <tr>\n",
       "      <th>5809</th>\n",
       "      <td>5810</td>\n",
       "      <td>208.080473</td>\n",
       "      <td>165.533785</td>\n",
       "      <td>199.177255</td>\n",
       "      <td>100.796385</td>\n",
       "      <td>87.586488</td>\n",
       "      <td>166.469537</td>\n",
       "      <td>36.090620</td>\n",
       "      <td>25.836286</td>\n",
       "      <td>10.722393</td>\n",
       "      <td>6</td>\n",
       "      <td>2</td>\n",
       "      <td>3</td>\n",
       "      <td>100.000000</td>\n",
       "      <td>4.0</td>\n",
       "    </tr>\n",
       "    <tr>\n",
       "      <th>5810</th>\n",
       "      <td>5811</td>\n",
       "      <td>83.269257</td>\n",
       "      <td>82.216262</td>\n",
       "      <td>119.968244</td>\n",
       "      <td>193.440691</td>\n",
       "      <td>79.849177</td>\n",
       "      <td>28.681885</td>\n",
       "      <td>18.239090</td>\n",
       "      <td>77.096194</td>\n",
       "      <td>16.410320</td>\n",
       "      <td>14</td>\n",
       "      <td>2</td>\n",
       "      <td>2</td>\n",
       "      <td>81.668298</td>\n",
       "      <td>0.0</td>\n",
       "    </tr>\n",
       "  </tbody>\n",
       "</table>\n",
       "<p>5811 rows × 15 columns</p>\n",
       "</div>"
      ],
      "text/plain": [
       "      RecordID         AQI        PM10       PM2_5         NO2        SO2  \\\n",
       "0            1  187.270059  295.853039   13.038560    6.639263  66.161150   \n",
       "1            2  475.357153  246.254703    9.984497   16.318326  90.499523   \n",
       "2            3  365.996971   84.443191   23.111340   96.317811  17.875850   \n",
       "3            4  299.329242   21.020609   14.273403   81.234403  48.323616   \n",
       "4            5   78.009320   16.987667  152.111623  121.235461  90.866167   \n",
       "...        ...         ...         ...         ...         ...        ...   \n",
       "5806      5807  171.112762   11.246387  197.984628  158.643107  17.743678   \n",
       "5807      5808  490.691667  275.340762   55.774170  132.336871  29.334724   \n",
       "5808      5809  314.841798   41.892699  184.708551   82.105823  68.334578   \n",
       "5809      5810  208.080473  165.533785  199.177255  100.796385  87.586488   \n",
       "5810      5811   83.269257   82.216262  119.968244  193.440691  79.849177   \n",
       "\n",
       "              O3  Temperature   Humidity  WindSpeed  RespiratoryCases  \\\n",
       "0      54.624280     5.150335  84.424344   6.137755                 7   \n",
       "1     169.621728     1.543378  46.851415   4.521422                10   \n",
       "2       9.006794     1.169483  17.806977  11.157384                13   \n",
       "3      93.161033    21.925276  99.473373  15.302500                 8   \n",
       "4     241.795138     9.217517  24.906837  14.534733                 9   \n",
       "...          ...          ...        ...        ...               ...   \n",
       "5806  280.370909    37.359323  61.707640   4.097129                14   \n",
       "5807  108.043492    34.532542  21.528555   6.682549                 8   \n",
       "5808  105.568503    22.975564  92.725625   2.889698                12   \n",
       "5809  166.469537    36.090620  25.836286  10.722393                 6   \n",
       "5810   28.681885    18.239090  77.096194  16.410320                14   \n",
       "\n",
       "      CardiovascularCases  HospitalAdmissions  HealthImpactScore  \\\n",
       "0                       5                   1          97.244041   \n",
       "1                       2                   0         100.000000   \n",
       "2                       3                   0         100.000000   \n",
       "3                       8                   1         100.000000   \n",
       "4                       0                   1          95.182643   \n",
       "...                   ...                 ...                ...   \n",
       "5806                    5                   2         100.000000   \n",
       "5807                    6                   2         100.000000   \n",
       "5808                    2                   3         100.000000   \n",
       "5809                    2                   3         100.000000   \n",
       "5810                    2                   2          81.668298   \n",
       "\n",
       "      HealthImpactClass  \n",
       "0                   0.0  \n",
       "1                   0.0  \n",
       "2                   0.0  \n",
       "3                   0.0  \n",
       "4                   0.0  \n",
       "...                 ...  \n",
       "5806                4.0  \n",
       "5807                3.0  \n",
       "5808                1.0  \n",
       "5809                4.0  \n",
       "5810                0.0  \n",
       "\n",
       "[5811 rows x 15 columns]"
      ]
     },
     "execution_count": 18,
     "metadata": {},
     "output_type": "execute_result"
    }
   ],
   "source": [
    "# Load the dataset\n",
    "df = pd.read_csv('air_quality_health_impact_data.csv')\n",
    "df"
   ]
  },
  {
   "cell_type": "code",
   "execution_count": 19,
   "id": "d4cfb7e5-5f34-4898-8f90-a3f9c5cc71ac",
   "metadata": {},
   "outputs": [
    {
     "data": {
      "text/plain": [
       "(5811, 15)"
      ]
     },
     "execution_count": 19,
     "metadata": {},
     "output_type": "execute_result"
    }
   ],
   "source": [
    "df.shape"
   ]
  },
  {
   "cell_type": "code",
   "execution_count": 20,
   "id": "64b2766b-c9ca-443a-91be-b03ab7f23dc8",
   "metadata": {
    "scrolled": true
   },
   "outputs": [
    {
     "name": "stdout",
     "output_type": "stream",
     "text": [
      "<class 'pandas.core.frame.DataFrame'>\n",
      "RangeIndex: 5811 entries, 0 to 5810\n",
      "Data columns (total 15 columns):\n",
      " #   Column               Non-Null Count  Dtype  \n",
      "---  ------               --------------  -----  \n",
      " 0   RecordID             5811 non-null   int64  \n",
      " 1   AQI                  5811 non-null   float64\n",
      " 2   PM10                 5811 non-null   float64\n",
      " 3   PM2_5                5811 non-null   float64\n",
      " 4   NO2                  5811 non-null   float64\n",
      " 5   SO2                  5811 non-null   float64\n",
      " 6   O3                   5811 non-null   float64\n",
      " 7   Temperature          5811 non-null   float64\n",
      " 8   Humidity             5811 non-null   float64\n",
      " 9   WindSpeed            5811 non-null   float64\n",
      " 10  RespiratoryCases     5811 non-null   int64  \n",
      " 11  CardiovascularCases  5811 non-null   int64  \n",
      " 12  HospitalAdmissions   5811 non-null   int64  \n",
      " 13  HealthImpactScore    5811 non-null   float64\n",
      " 14  HealthImpactClass    5811 non-null   float64\n",
      "dtypes: float64(11), int64(4)\n",
      "memory usage: 681.1 KB\n"
     ]
    }
   ],
   "source": [
    "#Gathering information from the file\n",
    "df.info()"
   ]
  },
  {
   "cell_type": "code",
   "execution_count": 21,
   "id": "297e6873-7e14-4fb5-ac69-d97dad99f267",
   "metadata": {},
   "outputs": [
    {
     "data": {
      "text/plain": [
       "RecordID               5811\n",
       "AQI                    5811\n",
       "PM10                   5811\n",
       "PM2_5                  5811\n",
       "NO2                    5811\n",
       "SO2                    5811\n",
       "O3                     5811\n",
       "Temperature            5811\n",
       "Humidity               5811\n",
       "WindSpeed              5811\n",
       "RespiratoryCases       5811\n",
       "CardiovascularCases    5811\n",
       "HospitalAdmissions     5811\n",
       "HealthImpactScore      5811\n",
       "HealthImpactClass      5811\n",
       "dtype: int64"
      ]
     },
     "execution_count": 21,
     "metadata": {},
     "output_type": "execute_result"
    }
   ],
   "source": [
    "df.count()"
   ]
  },
  {
   "cell_type": "code",
   "execution_count": 22,
   "id": "6f2985a6-f853-40fd-b3c1-3c2b2d7db4f6",
   "metadata": {
    "scrolled": true
   },
   "outputs": [
    {
     "data": {
      "text/html": [
       "<div>\n",
       "<style scoped>\n",
       "    .dataframe tbody tr th:only-of-type {\n",
       "        vertical-align: middle;\n",
       "    }\n",
       "\n",
       "    .dataframe tbody tr th {\n",
       "        vertical-align: top;\n",
       "    }\n",
       "\n",
       "    .dataframe thead th {\n",
       "        text-align: right;\n",
       "    }\n",
       "</style>\n",
       "<table border=\"1\" class=\"dataframe\">\n",
       "  <thead>\n",
       "    <tr style=\"text-align: right;\">\n",
       "      <th></th>\n",
       "      <th>RecordID</th>\n",
       "      <th>AQI</th>\n",
       "      <th>PM10</th>\n",
       "      <th>PM2_5</th>\n",
       "      <th>NO2</th>\n",
       "      <th>SO2</th>\n",
       "      <th>O3</th>\n",
       "      <th>Temperature</th>\n",
       "      <th>Humidity</th>\n",
       "      <th>WindSpeed</th>\n",
       "      <th>RespiratoryCases</th>\n",
       "      <th>CardiovascularCases</th>\n",
       "      <th>HospitalAdmissions</th>\n",
       "      <th>HealthImpactScore</th>\n",
       "      <th>HealthImpactClass</th>\n",
       "    </tr>\n",
       "  </thead>\n",
       "  <tbody>\n",
       "    <tr>\n",
       "      <th>count</th>\n",
       "      <td>5811.000000</td>\n",
       "      <td>5811.000000</td>\n",
       "      <td>5811.000000</td>\n",
       "      <td>5811.000000</td>\n",
       "      <td>5811.000000</td>\n",
       "      <td>5811.000000</td>\n",
       "      <td>5811.000000</td>\n",
       "      <td>5811.000000</td>\n",
       "      <td>5811.000000</td>\n",
       "      <td>5811.000000</td>\n",
       "      <td>5811.000000</td>\n",
       "      <td>5811.000000</td>\n",
       "      <td>5811.000000</td>\n",
       "      <td>5811.000000</td>\n",
       "      <td>5811.000000</td>\n",
       "    </tr>\n",
       "    <tr>\n",
       "      <th>mean</th>\n",
       "      <td>2906.000000</td>\n",
       "      <td>248.438476</td>\n",
       "      <td>148.654997</td>\n",
       "      <td>100.223714</td>\n",
       "      <td>102.293445</td>\n",
       "      <td>49.456838</td>\n",
       "      <td>149.312431</td>\n",
       "      <td>14.975500</td>\n",
       "      <td>54.776853</td>\n",
       "      <td>9.989177</td>\n",
       "      <td>9.974187</td>\n",
       "      <td>4.988986</td>\n",
       "      <td>2.001033</td>\n",
       "      <td>93.785223</td>\n",
       "      <td>0.281191</td>\n",
       "    </tr>\n",
       "    <tr>\n",
       "      <th>std</th>\n",
       "      <td>1677.635538</td>\n",
       "      <td>144.777638</td>\n",
       "      <td>85.698500</td>\n",
       "      <td>58.096612</td>\n",
       "      <td>57.713175</td>\n",
       "      <td>28.530329</td>\n",
       "      <td>86.534240</td>\n",
       "      <td>14.483067</td>\n",
       "      <td>26.020786</td>\n",
       "      <td>5.776950</td>\n",
       "      <td>3.129234</td>\n",
       "      <td>2.216791</td>\n",
       "      <td>1.398794</td>\n",
       "      <td>13.318904</td>\n",
       "      <td>0.714075</td>\n",
       "    </tr>\n",
       "    <tr>\n",
       "      <th>min</th>\n",
       "      <td>1.000000</td>\n",
       "      <td>0.005817</td>\n",
       "      <td>0.015848</td>\n",
       "      <td>0.031549</td>\n",
       "      <td>0.009625</td>\n",
       "      <td>0.011023</td>\n",
       "      <td>0.001661</td>\n",
       "      <td>-9.990998</td>\n",
       "      <td>10.001506</td>\n",
       "      <td>0.002094</td>\n",
       "      <td>1.000000</td>\n",
       "      <td>0.000000</td>\n",
       "      <td>0.000000</td>\n",
       "      <td>22.448488</td>\n",
       "      <td>0.000000</td>\n",
       "    </tr>\n",
       "    <tr>\n",
       "      <th>25%</th>\n",
       "      <td>1453.500000</td>\n",
       "      <td>122.951293</td>\n",
       "      <td>75.374954</td>\n",
       "      <td>49.435171</td>\n",
       "      <td>53.538538</td>\n",
       "      <td>24.887264</td>\n",
       "      <td>73.999665</td>\n",
       "      <td>2.481500</td>\n",
       "      <td>31.995262</td>\n",
       "      <td>4.952343</td>\n",
       "      <td>8.000000</td>\n",
       "      <td>3.000000</td>\n",
       "      <td>1.000000</td>\n",
       "      <td>98.203057</td>\n",
       "      <td>0.000000</td>\n",
       "    </tr>\n",
       "    <tr>\n",
       "      <th>50%</th>\n",
       "      <td>2906.000000</td>\n",
       "      <td>249.127841</td>\n",
       "      <td>147.634997</td>\n",
       "      <td>100.506337</td>\n",
       "      <td>102.987736</td>\n",
       "      <td>49.530165</td>\n",
       "      <td>149.559871</td>\n",
       "      <td>14.942428</td>\n",
       "      <td>54.543904</td>\n",
       "      <td>10.051742</td>\n",
       "      <td>10.000000</td>\n",
       "      <td>5.000000</td>\n",
       "      <td>2.000000</td>\n",
       "      <td>100.000000</td>\n",
       "      <td>0.000000</td>\n",
       "    </tr>\n",
       "    <tr>\n",
       "      <th>75%</th>\n",
       "      <td>4358.500000</td>\n",
       "      <td>373.630668</td>\n",
       "      <td>222.436759</td>\n",
       "      <td>151.340260</td>\n",
       "      <td>151.658516</td>\n",
       "      <td>73.346617</td>\n",
       "      <td>223.380126</td>\n",
       "      <td>27.465374</td>\n",
       "      <td>77.641639</td>\n",
       "      <td>14.971840</td>\n",
       "      <td>12.000000</td>\n",
       "      <td>6.000000</td>\n",
       "      <td>3.000000</td>\n",
       "      <td>100.000000</td>\n",
       "      <td>0.000000</td>\n",
       "    </tr>\n",
       "    <tr>\n",
       "      <th>max</th>\n",
       "      <td>5811.000000</td>\n",
       "      <td>499.858837</td>\n",
       "      <td>299.901962</td>\n",
       "      <td>199.984965</td>\n",
       "      <td>199.980195</td>\n",
       "      <td>99.969561</td>\n",
       "      <td>299.936812</td>\n",
       "      <td>39.963434</td>\n",
       "      <td>99.997493</td>\n",
       "      <td>19.999139</td>\n",
       "      <td>23.000000</td>\n",
       "      <td>14.000000</td>\n",
       "      <td>12.000000</td>\n",
       "      <td>100.000000</td>\n",
       "      <td>4.000000</td>\n",
       "    </tr>\n",
       "  </tbody>\n",
       "</table>\n",
       "</div>"
      ],
      "text/plain": [
       "          RecordID          AQI         PM10        PM2_5          NO2  \\\n",
       "count  5811.000000  5811.000000  5811.000000  5811.000000  5811.000000   \n",
       "mean   2906.000000   248.438476   148.654997   100.223714   102.293445   \n",
       "std    1677.635538   144.777638    85.698500    58.096612    57.713175   \n",
       "min       1.000000     0.005817     0.015848     0.031549     0.009625   \n",
       "25%    1453.500000   122.951293    75.374954    49.435171    53.538538   \n",
       "50%    2906.000000   249.127841   147.634997   100.506337   102.987736   \n",
       "75%    4358.500000   373.630668   222.436759   151.340260   151.658516   \n",
       "max    5811.000000   499.858837   299.901962   199.984965   199.980195   \n",
       "\n",
       "               SO2           O3  Temperature     Humidity    WindSpeed  \\\n",
       "count  5811.000000  5811.000000  5811.000000  5811.000000  5811.000000   \n",
       "mean     49.456838   149.312431    14.975500    54.776853     9.989177   \n",
       "std      28.530329    86.534240    14.483067    26.020786     5.776950   \n",
       "min       0.011023     0.001661    -9.990998    10.001506     0.002094   \n",
       "25%      24.887264    73.999665     2.481500    31.995262     4.952343   \n",
       "50%      49.530165   149.559871    14.942428    54.543904    10.051742   \n",
       "75%      73.346617   223.380126    27.465374    77.641639    14.971840   \n",
       "max      99.969561   299.936812    39.963434    99.997493    19.999139   \n",
       "\n",
       "       RespiratoryCases  CardiovascularCases  HospitalAdmissions  \\\n",
       "count       5811.000000          5811.000000         5811.000000   \n",
       "mean           9.974187             4.988986            2.001033   \n",
       "std            3.129234             2.216791            1.398794   \n",
       "min            1.000000             0.000000            0.000000   \n",
       "25%            8.000000             3.000000            1.000000   \n",
       "50%           10.000000             5.000000            2.000000   \n",
       "75%           12.000000             6.000000            3.000000   \n",
       "max           23.000000            14.000000           12.000000   \n",
       "\n",
       "       HealthImpactScore  HealthImpactClass  \n",
       "count        5811.000000        5811.000000  \n",
       "mean           93.785223           0.281191  \n",
       "std            13.318904           0.714075  \n",
       "min            22.448488           0.000000  \n",
       "25%            98.203057           0.000000  \n",
       "50%           100.000000           0.000000  \n",
       "75%           100.000000           0.000000  \n",
       "max           100.000000           4.000000  "
      ]
     },
     "execution_count": 22,
     "metadata": {},
     "output_type": "execute_result"
    }
   ],
   "source": [
    "#describing the data\n",
    "df.describe()"
   ]
  },
  {
   "cell_type": "code",
   "execution_count": 23,
   "id": "e2b59174-6c54-4bd8-abe6-de01e7c87212",
   "metadata": {},
   "outputs": [
    {
     "data": {
      "text/html": [
       "<div>\n",
       "<style scoped>\n",
       "    .dataframe tbody tr th:only-of-type {\n",
       "        vertical-align: middle;\n",
       "    }\n",
       "\n",
       "    .dataframe tbody tr th {\n",
       "        vertical-align: top;\n",
       "    }\n",
       "\n",
       "    .dataframe thead th {\n",
       "        text-align: right;\n",
       "    }\n",
       "</style>\n",
       "<table border=\"1\" class=\"dataframe\">\n",
       "  <thead>\n",
       "    <tr style=\"text-align: right;\">\n",
       "      <th></th>\n",
       "      <th>RecordID</th>\n",
       "      <th>AQI</th>\n",
       "      <th>PM10</th>\n",
       "      <th>PM2_5</th>\n",
       "      <th>NO2</th>\n",
       "      <th>SO2</th>\n",
       "      <th>O3</th>\n",
       "      <th>Temperature</th>\n",
       "      <th>Humidity</th>\n",
       "      <th>WindSpeed</th>\n",
       "      <th>RespiratoryCases</th>\n",
       "      <th>CardiovascularCases</th>\n",
       "      <th>HospitalAdmissions</th>\n",
       "      <th>HealthImpactScore</th>\n",
       "      <th>HealthImpactClass</th>\n",
       "    </tr>\n",
       "  </thead>\n",
       "  <tbody>\n",
       "    <tr>\n",
       "      <th>5806</th>\n",
       "      <td>5807</td>\n",
       "      <td>171.112762</td>\n",
       "      <td>11.246387</td>\n",
       "      <td>197.984628</td>\n",
       "      <td>158.643107</td>\n",
       "      <td>17.743678</td>\n",
       "      <td>280.370909</td>\n",
       "      <td>37.359323</td>\n",
       "      <td>61.707640</td>\n",
       "      <td>4.097129</td>\n",
       "      <td>14</td>\n",
       "      <td>5</td>\n",
       "      <td>2</td>\n",
       "      <td>100.000000</td>\n",
       "      <td>4.0</td>\n",
       "    </tr>\n",
       "    <tr>\n",
       "      <th>5807</th>\n",
       "      <td>5808</td>\n",
       "      <td>490.691667</td>\n",
       "      <td>275.340762</td>\n",
       "      <td>55.774170</td>\n",
       "      <td>132.336871</td>\n",
       "      <td>29.334724</td>\n",
       "      <td>108.043492</td>\n",
       "      <td>34.532542</td>\n",
       "      <td>21.528555</td>\n",
       "      <td>6.682549</td>\n",
       "      <td>8</td>\n",
       "      <td>6</td>\n",
       "      <td>2</td>\n",
       "      <td>100.000000</td>\n",
       "      <td>3.0</td>\n",
       "    </tr>\n",
       "    <tr>\n",
       "      <th>5808</th>\n",
       "      <td>5809</td>\n",
       "      <td>314.841798</td>\n",
       "      <td>41.892699</td>\n",
       "      <td>184.708551</td>\n",
       "      <td>82.105823</td>\n",
       "      <td>68.334578</td>\n",
       "      <td>105.568503</td>\n",
       "      <td>22.975564</td>\n",
       "      <td>92.725625</td>\n",
       "      <td>2.889698</td>\n",
       "      <td>12</td>\n",
       "      <td>2</td>\n",
       "      <td>3</td>\n",
       "      <td>100.000000</td>\n",
       "      <td>1.0</td>\n",
       "    </tr>\n",
       "    <tr>\n",
       "      <th>5809</th>\n",
       "      <td>5810</td>\n",
       "      <td>208.080473</td>\n",
       "      <td>165.533785</td>\n",
       "      <td>199.177255</td>\n",
       "      <td>100.796385</td>\n",
       "      <td>87.586488</td>\n",
       "      <td>166.469537</td>\n",
       "      <td>36.090620</td>\n",
       "      <td>25.836286</td>\n",
       "      <td>10.722393</td>\n",
       "      <td>6</td>\n",
       "      <td>2</td>\n",
       "      <td>3</td>\n",
       "      <td>100.000000</td>\n",
       "      <td>4.0</td>\n",
       "    </tr>\n",
       "    <tr>\n",
       "      <th>5810</th>\n",
       "      <td>5811</td>\n",
       "      <td>83.269257</td>\n",
       "      <td>82.216262</td>\n",
       "      <td>119.968244</td>\n",
       "      <td>193.440691</td>\n",
       "      <td>79.849177</td>\n",
       "      <td>28.681885</td>\n",
       "      <td>18.239090</td>\n",
       "      <td>77.096194</td>\n",
       "      <td>16.410320</td>\n",
       "      <td>14</td>\n",
       "      <td>2</td>\n",
       "      <td>2</td>\n",
       "      <td>81.668298</td>\n",
       "      <td>0.0</td>\n",
       "    </tr>\n",
       "  </tbody>\n",
       "</table>\n",
       "</div>"
      ],
      "text/plain": [
       "      RecordID         AQI        PM10       PM2_5         NO2        SO2  \\\n",
       "5806      5807  171.112762   11.246387  197.984628  158.643107  17.743678   \n",
       "5807      5808  490.691667  275.340762   55.774170  132.336871  29.334724   \n",
       "5808      5809  314.841798   41.892699  184.708551   82.105823  68.334578   \n",
       "5809      5810  208.080473  165.533785  199.177255  100.796385  87.586488   \n",
       "5810      5811   83.269257   82.216262  119.968244  193.440691  79.849177   \n",
       "\n",
       "              O3  Temperature   Humidity  WindSpeed  RespiratoryCases  \\\n",
       "5806  280.370909    37.359323  61.707640   4.097129                14   \n",
       "5807  108.043492    34.532542  21.528555   6.682549                 8   \n",
       "5808  105.568503    22.975564  92.725625   2.889698                12   \n",
       "5809  166.469537    36.090620  25.836286  10.722393                 6   \n",
       "5810   28.681885    18.239090  77.096194  16.410320                14   \n",
       "\n",
       "      CardiovascularCases  HospitalAdmissions  HealthImpactScore  \\\n",
       "5806                    5                   2         100.000000   \n",
       "5807                    6                   2         100.000000   \n",
       "5808                    2                   3         100.000000   \n",
       "5809                    2                   3         100.000000   \n",
       "5810                    2                   2          81.668298   \n",
       "\n",
       "      HealthImpactClass  \n",
       "5806                4.0  \n",
       "5807                3.0  \n",
       "5808                1.0  \n",
       "5809                4.0  \n",
       "5810                0.0  "
      ]
     },
     "execution_count": 23,
     "metadata": {},
     "output_type": "execute_result"
    }
   ],
   "source": [
    "df.tail()"
   ]
  },
  {
   "cell_type": "code",
   "execution_count": 24,
   "id": "43c2585f-237d-42d6-9bf4-3eae32074d32",
   "metadata": {},
   "outputs": [
    {
     "data": {
      "text/plain": [
       "RecordID               0\n",
       "AQI                    0\n",
       "PM10                   0\n",
       "PM2_5                  0\n",
       "NO2                    0\n",
       "SO2                    0\n",
       "O3                     0\n",
       "Temperature            0\n",
       "Humidity               0\n",
       "WindSpeed              0\n",
       "RespiratoryCases       0\n",
       "CardiovascularCases    0\n",
       "HospitalAdmissions     0\n",
       "HealthImpactScore      0\n",
       "HealthImpactClass      0\n",
       "dtype: int64"
      ]
     },
     "execution_count": 24,
     "metadata": {},
     "output_type": "execute_result"
    }
   ],
   "source": [
    "#checking for null values in the data\n",
    "df.isnull().sum()"
   ]
  },
  {
   "cell_type": "code",
   "execution_count": 25,
   "id": "764979e6-f2d0-460d-81f3-b450faf0bbd5",
   "metadata": {},
   "outputs": [
    {
     "data": {
      "text/plain": [
       "0"
      ]
     },
     "execution_count": 25,
     "metadata": {},
     "output_type": "execute_result"
    }
   ],
   "source": [
    "#checking for duplicates in the data\n",
    "df.duplicated().sum()"
   ]
  },
  {
   "cell_type": "code",
   "execution_count": 26,
   "id": "12dc02da-1f2b-4915-be50-f2d2e1876f9f",
   "metadata": {},
   "outputs": [
    {
     "data": {
      "text/plain": [
       "<Axes: xlabel='HealthImpactClass', ylabel='count'>"
      ]
     },
     "execution_count": 26,
     "metadata": {},
     "output_type": "execute_result"
    },
    {
     "data": {
      "image/png": "[encoded data removed]",
      "text/plain": [
       "<Figure size 640x480 with 1 Axes>"
      ]
     },
     "metadata": {},
     "output_type": "display_data"
    }
   ],
   "source": [
    "sns.countplot(x='HealthImpactClass', data=df) "
   ]
  },
  {
   "cell_type": "code",
   "execution_count": 27,
   "id": "95413d0b-2560-452c-9156-258fcab35859",
   "metadata": {},
   "outputs": [
    {
     "data": {
      "image/png": "[encoded data removed]",
      "text/plain": [
       "<Figure size 1000x500 with 10 Axes>"
      ]
     },
     "metadata": {},
     "output_type": "display_data"
    }
   ],
   "source": [
    "# BOX plot to find the outlier\n",
    "X = df.iloc[:, :10]\n",
    "plt.figure(figsize=(10, 5))\n",
    "for i, column in enumerate(X.columns, 1):\n",
    "    plt.subplot(2, 5, i)\n",
    "    sns.boxplot(y=X[column])\n",
    "    plt.title(f'Boxplot of {column}')\n",
    "    plt.tight_layout()\n",
    "plt.show()"
   ]
  },
  {
   "cell_type": "code",
   "execution_count": 28,
   "id": "9eb0e1a7-924c-438a-baa6-63803930db46",
   "metadata": {
    "scrolled": true
   },
   "outputs": [
    {
     "data": {
      "text/plain": [
       "array([0., 1., 3., 2., 4.])"
      ]
     },
     "execution_count": 28,
     "metadata": {},
     "output_type": "execute_result"
    }
   ],
   "source": [
    "#Checking for unique values in EngagementLevel column\n",
    "df['HealthImpactClass'].unique()"
   ]
  },
  {
   "cell_type": "code",
   "execution_count": 29,
   "id": "7a05d472-b36e-4bc4-b3f3-7b06463254b8",
   "metadata": {},
   "outputs": [
    {
     "data": {
      "text/plain": [
       "Index(['RecordID', 'AQI', 'PM10', 'PM2_5', 'NO2', 'SO2', 'O3', 'Temperature',\n",
       "       'Humidity', 'WindSpeed', 'RespiratoryCases', 'CardiovascularCases',\n",
       "       'HospitalAdmissions', 'HealthImpactScore', 'HealthImpactClass'],\n",
       "      dtype='object')"
      ]
     },
     "execution_count": 29,
     "metadata": {},
     "output_type": "execute_result"
    }
   ],
   "source": [
    "df.columns"
   ]
  },
  {
   "cell_type": "code",
   "execution_count": 30,
   "id": "4961d25a-3371-4eac-b42f-eaca2bda0ddf",
   "metadata": {},
   "outputs": [
    {
     "name": "stdout",
     "output_type": "stream",
     "text": [
      "RecordID               0.000000\n",
      "AQI                    0.010605\n",
      "PM10                   0.019238\n",
      "PM2_5                 -0.002833\n",
      "NO2                   -0.053575\n",
      "SO2                    0.025567\n",
      "O3                     0.011179\n",
      "Temperature            0.004897\n",
      "Humidity               0.023057\n",
      "WindSpeed             -0.011075\n",
      "RespiratoryCases       0.255800\n",
      "CardiovascularCases    0.445549\n",
      "HospitalAdmissions     0.715139\n",
      "HealthImpactScore     -2.350102\n",
      "HealthImpactClass      2.970607\n",
      "dtype: float64\n"
     ]
    },
    {
     "data": {
      "image/png": "[encoded data removed]",
      "text/plain": [
       "<Figure size 1500x1000 with 16 Axes>"
      ]
     },
     "metadata": {},
     "output_type": "display_data"
    }
   ],
   "source": [
    "from scipy.stats import skew\n",
    "skewness = df.apply(lambda x: skew(x.dropna()), axis=0)\n",
    "print(skewness)\n",
    "df.hist(bins=30, figsize=(15, 10))\n",
    "plt.show()"
   ]
  },
  {
   "cell_type": "code",
   "execution_count": 31,
   "id": "c1881975-ef1f-4a41-aeaf-56424660e2f7",
   "metadata": {},
   "outputs": [
    {
     "data": {
      "text/plain": [
       "<Axes: >"
      ]
     },
     "execution_count": 31,
     "metadata": {},
     "output_type": "execute_result"
    },
    {
     "data": {
      "image/png": "[encoded data removed]",
      "text/plain": [
       "<Figure size 640x480 with 2 Axes>"
      ]
     },
     "metadata": {},
     "output_type": "display_data"
    }
   ],
   "source": [
    "# Create a heatmap\n",
    "sns.heatmap(df.corr(), annot = True)"
   ]
  },
  {
   "cell_type": "code",
   "execution_count": 32,
   "id": "eafcddd6-0ae4-4aaf-a444-d04706267fb7",
   "metadata": {},
   "outputs": [
    {
     "data": {
      "text/html": [
       "<div>\n",
       "<style scoped>\n",
       "    .dataframe tbody tr th:only-of-type {\n",
       "        vertical-align: middle;\n",
       "    }\n",
       "\n",
       "    .dataframe tbody tr th {\n",
       "        vertical-align: top;\n",
       "    }\n",
       "\n",
       "    .dataframe thead th {\n",
       "        text-align: right;\n",
       "    }\n",
       "</style>\n",
       "<table border=\"1\" class=\"dataframe\">\n",
       "  <thead>\n",
       "    <tr style=\"text-align: right;\">\n",
       "      <th></th>\n",
       "      <th>RecordID</th>\n",
       "      <th>AQI</th>\n",
       "      <th>PM10</th>\n",
       "      <th>PM2_5</th>\n",
       "      <th>NO2</th>\n",
       "      <th>SO2</th>\n",
       "      <th>O3</th>\n",
       "      <th>Temperature</th>\n",
       "      <th>Humidity</th>\n",
       "      <th>WindSpeed</th>\n",
       "      <th>RespiratoryCases</th>\n",
       "      <th>CardiovascularCases</th>\n",
       "      <th>HospitalAdmissions</th>\n",
       "      <th>HealthImpactScore</th>\n",
       "      <th>HealthImpactClass</th>\n",
       "    </tr>\n",
       "  </thead>\n",
       "  <tbody>\n",
       "    <tr>\n",
       "      <th>0</th>\n",
       "      <td>1</td>\n",
       "      <td>187.270059</td>\n",
       "      <td>295.853039</td>\n",
       "      <td>13.038560</td>\n",
       "      <td>6.639263</td>\n",
       "      <td>66.161150</td>\n",
       "      <td>54.624280</td>\n",
       "      <td>5.150335</td>\n",
       "      <td>84.424344</td>\n",
       "      <td>6.137755</td>\n",
       "      <td>7</td>\n",
       "      <td>5</td>\n",
       "      <td>1</td>\n",
       "      <td>97.244041</td>\n",
       "      <td>0.0</td>\n",
       "    </tr>\n",
       "    <tr>\n",
       "      <th>1</th>\n",
       "      <td>2</td>\n",
       "      <td>475.357153</td>\n",
       "      <td>246.254703</td>\n",
       "      <td>9.984497</td>\n",
       "      <td>16.318326</td>\n",
       "      <td>90.499523</td>\n",
       "      <td>169.621728</td>\n",
       "      <td>1.543378</td>\n",
       "      <td>46.851415</td>\n",
       "      <td>4.521422</td>\n",
       "      <td>10</td>\n",
       "      <td>2</td>\n",
       "      <td>0</td>\n",
       "      <td>100.000000</td>\n",
       "      <td>0.0</td>\n",
       "    </tr>\n",
       "    <tr>\n",
       "      <th>2</th>\n",
       "      <td>3</td>\n",
       "      <td>365.996971</td>\n",
       "      <td>84.443191</td>\n",
       "      <td>23.111340</td>\n",
       "      <td>96.317811</td>\n",
       "      <td>17.875850</td>\n",
       "      <td>9.006794</td>\n",
       "      <td>1.169483</td>\n",
       "      <td>17.806977</td>\n",
       "      <td>11.157384</td>\n",
       "      <td>13</td>\n",
       "      <td>3</td>\n",
       "      <td>0</td>\n",
       "      <td>100.000000</td>\n",
       "      <td>0.0</td>\n",
       "    </tr>\n",
       "    <tr>\n",
       "      <th>3</th>\n",
       "      <td>4</td>\n",
       "      <td>299.329242</td>\n",
       "      <td>21.020609</td>\n",
       "      <td>14.273403</td>\n",
       "      <td>81.234403</td>\n",
       "      <td>48.323616</td>\n",
       "      <td>93.161033</td>\n",
       "      <td>21.925276</td>\n",
       "      <td>99.473373</td>\n",
       "      <td>15.302500</td>\n",
       "      <td>8</td>\n",
       "      <td>8</td>\n",
       "      <td>1</td>\n",
       "      <td>100.000000</td>\n",
       "      <td>0.0</td>\n",
       "    </tr>\n",
       "    <tr>\n",
       "      <th>4</th>\n",
       "      <td>5</td>\n",
       "      <td>78.009320</td>\n",
       "      <td>16.987667</td>\n",
       "      <td>152.111623</td>\n",
       "      <td>121.235461</td>\n",
       "      <td>90.866167</td>\n",
       "      <td>241.795138</td>\n",
       "      <td>9.217517</td>\n",
       "      <td>24.906837</td>\n",
       "      <td>14.534733</td>\n",
       "      <td>9</td>\n",
       "      <td>0</td>\n",
       "      <td>1</td>\n",
       "      <td>95.182643</td>\n",
       "      <td>0.0</td>\n",
       "    </tr>\n",
       "    <tr>\n",
       "      <th>...</th>\n",
       "      <td>...</td>\n",
       "      <td>...</td>\n",
       "      <td>...</td>\n",
       "      <td>...</td>\n",
       "      <td>...</td>\n",
       "      <td>...</td>\n",
       "      <td>...</td>\n",
       "      <td>...</td>\n",
       "      <td>...</td>\n",
       "      <td>...</td>\n",
       "      <td>...</td>\n",
       "      <td>...</td>\n",
       "      <td>...</td>\n",
       "      <td>...</td>\n",
       "      <td>...</td>\n",
       "    </tr>\n",
       "    <tr>\n",
       "      <th>5806</th>\n",
       "      <td>5807</td>\n",
       "      <td>171.112762</td>\n",
       "      <td>11.246387</td>\n",
       "      <td>197.984628</td>\n",
       "      <td>158.643107</td>\n",
       "      <td>17.743678</td>\n",
       "      <td>280.370909</td>\n",
       "      <td>37.359323</td>\n",
       "      <td>61.707640</td>\n",
       "      <td>4.097129</td>\n",
       "      <td>14</td>\n",
       "      <td>5</td>\n",
       "      <td>2</td>\n",
       "      <td>100.000000</td>\n",
       "      <td>4.0</td>\n",
       "    </tr>\n",
       "    <tr>\n",
       "      <th>5807</th>\n",
       "      <td>5808</td>\n",
       "      <td>490.691667</td>\n",
       "      <td>275.340762</td>\n",
       "      <td>55.774170</td>\n",
       "      <td>132.336871</td>\n",
       "      <td>29.334724</td>\n",
       "      <td>108.043492</td>\n",
       "      <td>34.532542</td>\n",
       "      <td>21.528555</td>\n",
       "      <td>6.682549</td>\n",
       "      <td>8</td>\n",
       "      <td>6</td>\n",
       "      <td>2</td>\n",
       "      <td>100.000000</td>\n",
       "      <td>3.0</td>\n",
       "    </tr>\n",
       "    <tr>\n",
       "      <th>5808</th>\n",
       "      <td>5809</td>\n",
       "      <td>314.841798</td>\n",
       "      <td>41.892699</td>\n",
       "      <td>184.708551</td>\n",
       "      <td>82.105823</td>\n",
       "      <td>68.334578</td>\n",
       "      <td>105.568503</td>\n",
       "      <td>22.975564</td>\n",
       "      <td>92.725625</td>\n",
       "      <td>2.889698</td>\n",
       "      <td>12</td>\n",
       "      <td>2</td>\n",
       "      <td>3</td>\n",
       "      <td>100.000000</td>\n",
       "      <td>1.0</td>\n",
       "    </tr>\n",
       "    <tr>\n",
       "      <th>5809</th>\n",
       "      <td>5810</td>\n",
       "      <td>208.080473</td>\n",
       "      <td>165.533785</td>\n",
       "      <td>199.177255</td>\n",
       "      <td>100.796385</td>\n",
       "      <td>87.586488</td>\n",
       "      <td>166.469537</td>\n",
       "      <td>36.090620</td>\n",
       "      <td>25.836286</td>\n",
       "      <td>10.722393</td>\n",
       "      <td>6</td>\n",
       "      <td>2</td>\n",
       "      <td>3</td>\n",
       "      <td>100.000000</td>\n",
       "      <td>4.0</td>\n",
       "    </tr>\n",
       "    <tr>\n",
       "      <th>5810</th>\n",
       "      <td>5811</td>\n",
       "      <td>83.269257</td>\n",
       "      <td>82.216262</td>\n",
       "      <td>119.968244</td>\n",
       "      <td>193.440691</td>\n",
       "      <td>79.849177</td>\n",
       "      <td>28.681885</td>\n",
       "      <td>18.239090</td>\n",
       "      <td>77.096194</td>\n",
       "      <td>16.410320</td>\n",
       "      <td>14</td>\n",
       "      <td>2</td>\n",
       "      <td>2</td>\n",
       "      <td>81.668298</td>\n",
       "      <td>0.0</td>\n",
       "    </tr>\n",
       "  </tbody>\n",
       "</table>\n",
       "<p>5811 rows × 15 columns</p>\n",
       "</div>"
      ],
      "text/plain": [
       "      RecordID         AQI        PM10       PM2_5         NO2        SO2  \\\n",
       "0            1  187.270059  295.853039   13.038560    6.639263  66.161150   \n",
       "1            2  475.357153  246.254703    9.984497   16.318326  90.499523   \n",
       "2            3  365.996971   84.443191   23.111340   96.317811  17.875850   \n",
       "3            4  299.329242   21.020609   14.273403   81.234403  48.323616   \n",
       "4            5   78.009320   16.987667  152.111623  121.235461  90.866167   \n",
       "...        ...         ...         ...         ...         ...        ...   \n",
       "5806      5807  171.112762   11.246387  197.984628  158.643107  17.743678   \n",
       "5807      5808  490.691667  275.340762   55.774170  132.336871  29.334724   \n",
       "5808      5809  314.841798   41.892699  184.708551   82.105823  68.334578   \n",
       "5809      5810  208.080473  165.533785  199.177255  100.796385  87.586488   \n",
       "5810      5811   83.269257   82.216262  119.968244  193.440691  79.849177   \n",
       "\n",
       "              O3  Temperature   Humidity  WindSpeed  RespiratoryCases  \\\n",
       "0      54.624280     5.150335  84.424344   6.137755                 7   \n",
       "1     169.621728     1.543378  46.851415   4.521422                10   \n",
       "2       9.006794     1.169483  17.806977  11.157384                13   \n",
       "3      93.161033    21.925276  99.473373  15.302500                 8   \n",
       "4     241.795138     9.217517  24.906837  14.534733                 9   \n",
       "...          ...          ...        ...        ...               ...   \n",
       "5806  280.370909    37.359323  61.707640   4.097129                14   \n",
       "5807  108.043492    34.532542  21.528555   6.682549                 8   \n",
       "5808  105.568503    22.975564  92.725625   2.889698                12   \n",
       "5809  166.469537    36.090620  25.836286  10.722393                 6   \n",
       "5810   28.681885    18.239090  77.096194  16.410320                14   \n",
       "\n",
       "      CardiovascularCases  HospitalAdmissions  HealthImpactScore  \\\n",
       "0                       5                   1          97.244041   \n",
       "1                       2                   0         100.000000   \n",
       "2                       3                   0         100.000000   \n",
       "3                       8                   1         100.000000   \n",
       "4                       0                   1          95.182643   \n",
       "...                   ...                 ...                ...   \n",
       "5806                    5                   2         100.000000   \n",
       "5807                    6                   2         100.000000   \n",
       "5808                    2                   3         100.000000   \n",
       "5809                    2                   3         100.000000   \n",
       "5810                    2                   2          81.668298   \n",
       "\n",
       "      HealthImpactClass  \n",
       "0                   0.0  \n",
       "1                   0.0  \n",
       "2                   0.0  \n",
       "3                   0.0  \n",
       "4                   0.0  \n",
       "...                 ...  \n",
       "5806                4.0  \n",
       "5807                3.0  \n",
       "5808                1.0  \n",
       "5809                4.0  \n",
       "5810                0.0  \n",
       "\n",
       "[5811 rows x 15 columns]"
      ]
     },
     "execution_count": 32,
     "metadata": {},
     "output_type": "execute_result"
    }
   ],
   "source": [
    "df"
   ]
  },
  {
   "cell_type": "code",
   "execution_count": 33,
   "id": "73baec9b-1144-4f70-9e5d-ef18db128898",
   "metadata": {},
   "outputs": [],
   "source": [
    "# Define the feature matrix X and target vector Y\n",
    "X = df.drop(columns = ['HealthImpactClass', 'RecordID'])  \n",
    "Y = df['HealthImpactClass']     "
   ]
  },
  {
   "cell_type": "code",
   "execution_count": 34,
   "id": "e58278f4-15dd-4404-992a-9d9482c095c0",
   "metadata": {},
   "outputs": [
    {
     "data": {
      "text/html": [
       "<div>\n",
       "<style scoped>\n",
       "    .dataframe tbody tr th:only-of-type {\n",
       "        vertical-align: middle;\n",
       "    }\n",
       "\n",
       "    .dataframe tbody tr th {\n",
       "        vertical-align: top;\n",
       "    }\n",
       "\n",
       "    .dataframe thead th {\n",
       "        text-align: right;\n",
       "    }\n",
       "</style>\n",
       "<table border=\"1\" class=\"dataframe\">\n",
       "  <thead>\n",
       "    <tr style=\"text-align: right;\">\n",
       "      <th></th>\n",
       "      <th>AQI</th>\n",
       "      <th>PM10</th>\n",
       "      <th>PM2_5</th>\n",
       "      <th>NO2</th>\n",
       "      <th>SO2</th>\n",
       "      <th>O3</th>\n",
       "      <th>Temperature</th>\n",
       "      <th>Humidity</th>\n",
       "      <th>WindSpeed</th>\n",
       "      <th>RespiratoryCases</th>\n",
       "      <th>CardiovascularCases</th>\n",
       "      <th>HospitalAdmissions</th>\n",
       "      <th>HealthImpactScore</th>\n",
       "    </tr>\n",
       "  </thead>\n",
       "  <tbody>\n",
       "    <tr>\n",
       "      <th>3069</th>\n",
       "      <td>338.013144</td>\n",
       "      <td>175.536498</td>\n",
       "      <td>38.158453</td>\n",
       "      <td>12.902522</td>\n",
       "      <td>29.183752</td>\n",
       "      <td>140.617681</td>\n",
       "      <td>12.247399</td>\n",
       "      <td>32.756554</td>\n",
       "      <td>5.400684</td>\n",
       "      <td>10</td>\n",
       "      <td>8</td>\n",
       "      <td>3</td>\n",
       "      <td>100.0</td>\n",
       "    </tr>\n",
       "    <tr>\n",
       "      <th>2944</th>\n",
       "      <td>379.502641</td>\n",
       "      <td>256.385239</td>\n",
       "      <td>197.006769</td>\n",
       "      <td>171.259262</td>\n",
       "      <td>83.881757</td>\n",
       "      <td>73.666275</td>\n",
       "      <td>28.871661</td>\n",
       "      <td>32.288863</td>\n",
       "      <td>6.864984</td>\n",
       "      <td>9</td>\n",
       "      <td>3</td>\n",
       "      <td>3</td>\n",
       "      <td>100.0</td>\n",
       "    </tr>\n",
       "    <tr>\n",
       "      <th>3153</th>\n",
       "      <td>213.800667</td>\n",
       "      <td>167.043643</td>\n",
       "      <td>147.711900</td>\n",
       "      <td>69.041420</td>\n",
       "      <td>51.312256</td>\n",
       "      <td>17.797257</td>\n",
       "      <td>21.862280</td>\n",
       "      <td>72.403336</td>\n",
       "      <td>5.210956</td>\n",
       "      <td>7</td>\n",
       "      <td>6</td>\n",
       "      <td>2</td>\n",
       "      <td>100.0</td>\n",
       "    </tr>\n",
       "    <tr>\n",
       "      <th>155</th>\n",
       "      <td>121.027636</td>\n",
       "      <td>272.328373</td>\n",
       "      <td>109.112509</td>\n",
       "      <td>72.482128</td>\n",
       "      <td>16.737285</td>\n",
       "      <td>129.768090</td>\n",
       "      <td>22.825532</td>\n",
       "      <td>99.277372</td>\n",
       "      <td>0.493170</td>\n",
       "      <td>8</td>\n",
       "      <td>9</td>\n",
       "      <td>0</td>\n",
       "      <td>100.0</td>\n",
       "    </tr>\n",
       "    <tr>\n",
       "      <th>2377</th>\n",
       "      <td>394.492580</td>\n",
       "      <td>156.048067</td>\n",
       "      <td>150.077785</td>\n",
       "      <td>39.205840</td>\n",
       "      <td>54.631390</td>\n",
       "      <td>15.154535</td>\n",
       "      <td>27.266946</td>\n",
       "      <td>68.865609</td>\n",
       "      <td>4.728727</td>\n",
       "      <td>10</td>\n",
       "      <td>3</td>\n",
       "      <td>4</td>\n",
       "      <td>100.0</td>\n",
       "    </tr>\n",
       "    <tr>\n",
       "      <th>...</th>\n",
       "      <td>...</td>\n",
       "      <td>...</td>\n",
       "      <td>...</td>\n",
       "      <td>...</td>\n",
       "      <td>...</td>\n",
       "      <td>...</td>\n",
       "      <td>...</td>\n",
       "      <td>...</td>\n",
       "      <td>...</td>\n",
       "      <td>...</td>\n",
       "      <td>...</td>\n",
       "      <td>...</td>\n",
       "      <td>...</td>\n",
       "    </tr>\n",
       "    <tr>\n",
       "      <th>3399</th>\n",
       "      <td>288.351199</td>\n",
       "      <td>272.675323</td>\n",
       "      <td>166.412419</td>\n",
       "      <td>198.074905</td>\n",
       "      <td>88.519269</td>\n",
       "      <td>68.398254</td>\n",
       "      <td>5.264036</td>\n",
       "      <td>45.295421</td>\n",
       "      <td>6.491777</td>\n",
       "      <td>11</td>\n",
       "      <td>7</td>\n",
       "      <td>1</td>\n",
       "      <td>100.0</td>\n",
       "    </tr>\n",
       "    <tr>\n",
       "      <th>2773</th>\n",
       "      <td>229.832435</td>\n",
       "      <td>139.064352</td>\n",
       "      <td>105.337872</td>\n",
       "      <td>156.601708</td>\n",
       "      <td>91.140728</td>\n",
       "      <td>154.847894</td>\n",
       "      <td>11.265743</td>\n",
       "      <td>47.551166</td>\n",
       "      <td>5.400568</td>\n",
       "      <td>12</td>\n",
       "      <td>5</td>\n",
       "      <td>2</td>\n",
       "      <td>100.0</td>\n",
       "    </tr>\n",
       "    <tr>\n",
       "      <th>296</th>\n",
       "      <td>384.996777</td>\n",
       "      <td>24.581532</td>\n",
       "      <td>48.937238</td>\n",
       "      <td>122.886731</td>\n",
       "      <td>86.968658</td>\n",
       "      <td>227.063926</td>\n",
       "      <td>32.812250</td>\n",
       "      <td>86.822141</td>\n",
       "      <td>6.103008</td>\n",
       "      <td>5</td>\n",
       "      <td>6</td>\n",
       "      <td>1</td>\n",
       "      <td>100.0</td>\n",
       "    </tr>\n",
       "    <tr>\n",
       "      <th>575</th>\n",
       "      <td>474.760312</td>\n",
       "      <td>167.175550</td>\n",
       "      <td>32.323212</td>\n",
       "      <td>115.702358</td>\n",
       "      <td>80.551663</td>\n",
       "      <td>268.902991</td>\n",
       "      <td>32.796722</td>\n",
       "      <td>44.732618</td>\n",
       "      <td>13.282414</td>\n",
       "      <td>7</td>\n",
       "      <td>3</td>\n",
       "      <td>3</td>\n",
       "      <td>100.0</td>\n",
       "    </tr>\n",
       "    <tr>\n",
       "      <th>2165</th>\n",
       "      <td>489.552469</td>\n",
       "      <td>276.518001</td>\n",
       "      <td>16.951895</td>\n",
       "      <td>145.248518</td>\n",
       "      <td>65.370610</td>\n",
       "      <td>49.012672</td>\n",
       "      <td>13.991597</td>\n",
       "      <td>79.094479</td>\n",
       "      <td>19.835406</td>\n",
       "      <td>8</td>\n",
       "      <td>3</td>\n",
       "      <td>2</td>\n",
       "      <td>100.0</td>\n",
       "    </tr>\n",
       "  </tbody>\n",
       "</table>\n",
       "<p>4939 rows × 13 columns</p>\n",
       "</div>"
      ],
      "text/plain": [
       "             AQI        PM10       PM2_5         NO2        SO2          O3  \\\n",
       "3069  338.013144  175.536498   38.158453   12.902522  29.183752  140.617681   \n",
       "2944  379.502641  256.385239  197.006769  171.259262  83.881757   73.666275   \n",
       "3153  213.800667  167.043643  147.711900   69.041420  51.312256   17.797257   \n",
       "155   121.027636  272.328373  109.112509   72.482128  16.737285  129.768090   \n",
       "2377  394.492580  156.048067  150.077785   39.205840  54.631390   15.154535   \n",
       "...          ...         ...         ...         ...        ...         ...   \n",
       "3399  288.351199  272.675323  166.412419  198.074905  88.519269   68.398254   \n",
       "2773  229.832435  139.064352  105.337872  156.601708  91.140728  154.847894   \n",
       "296   384.996777   24.581532   48.937238  122.886731  86.968658  227.063926   \n",
       "575   474.760312  167.175550   32.323212  115.702358  80.551663  268.902991   \n",
       "2165  489.552469  276.518001   16.951895  145.248518  65.370610   49.012672   \n",
       "\n",
       "      Temperature   Humidity  WindSpeed  RespiratoryCases  \\\n",
       "3069    12.247399  32.756554   5.400684                10   \n",
       "2944    28.871661  32.288863   6.864984                 9   \n",
       "3153    21.862280  72.403336   5.210956                 7   \n",
       "155     22.825532  99.277372   0.493170                 8   \n",
       "2377    27.266946  68.865609   4.728727                10   \n",
       "...           ...        ...        ...               ...   \n",
       "3399     5.264036  45.295421   6.491777                11   \n",
       "2773    11.265743  47.551166   5.400568                12   \n",
       "296     32.812250  86.822141   6.103008                 5   \n",
       "575     32.796722  44.732618  13.282414                 7   \n",
       "2165    13.991597  79.094479  19.835406                 8   \n",
       "\n",
       "      CardiovascularCases  HospitalAdmissions  HealthImpactScore  \n",
       "3069                    8                   3              100.0  \n",
       "2944                    3                   3              100.0  \n",
       "3153                    6                   2              100.0  \n",
       "155                     9                   0              100.0  \n",
       "2377                    3                   4              100.0  \n",
       "...                   ...                 ...                ...  \n",
       "3399                    7                   1              100.0  \n",
       "2773                    5                   2              100.0  \n",
       "296                     6                   1              100.0  \n",
       "575                     3                   3              100.0  \n",
       "2165                    3                   2              100.0  \n",
       "\n",
       "[4939 rows x 13 columns]"
      ]
     },
     "execution_count": 34,
     "metadata": {},
     "output_type": "execute_result"
    }
   ],
   "source": [
    "# Train test Split\n",
    "#Import the Train-Test Split Function\n",
    "from sklearn.model_selection import train_test_split  \n",
    "# Split the Dataset into X_train, y_train variables\n",
    "X_train, X_test, y_train, y_test = train_test_split(X, Y, test_size = 0.15, random_state=65)\n",
    "X_train"
   ]
  },
  {
   "cell_type": "code",
   "execution_count": 35,
   "id": "7b285342-4d1a-470e-bbe0-dc367a7c6f0b",
   "metadata": {},
   "outputs": [
    {
     "data": {
      "text/plain": [
       "3069    0.0\n",
       "2944    0.0\n",
       "3153    0.0\n",
       "155     0.0\n",
       "2377    0.0\n",
       "       ... \n",
       "3399    0.0\n",
       "2773    0.0\n",
       "296     0.0\n",
       "575     0.0\n",
       "2165    0.0\n",
       "Name: HealthImpactClass, Length: 4939, dtype: float64"
      ]
     },
     "execution_count": 35,
     "metadata": {},
     "output_type": "execute_result"
    }
   ],
   "source": [
    "y_train"
   ]
  },
  {
   "cell_type": "code",
   "execution_count": 36,
   "id": "cea00590-f28d-49a1-ac21-f567cc979269",
   "metadata": {},
   "outputs": [
    {
     "data": {
      "text/plain": [
       "2479    0.0\n",
       "4438    0.0\n",
       "2758    0.0\n",
       "1976    0.0\n",
       "1759    0.0\n",
       "       ... \n",
       "4014    0.0\n",
       "763     0.0\n",
       "4516    0.0\n",
       "2231    3.0\n",
       "4311    0.0\n",
       "Name: HealthImpactClass, Length: 872, dtype: float64"
      ]
     },
     "execution_count": 36,
     "metadata": {},
     "output_type": "execute_result"
    }
   ],
   "source": [
    "y_test"
   ]
  },
  {
   "cell_type": "code",
   "execution_count": 37,
   "id": "92d7edaf-bb72-4eb0-ab7f-aede003ca881",
   "metadata": {},
   "outputs": [
    {
     "data": {
      "text/plain": [
       "array([[ 1.02440945e+00,  1.65896817e+00,  7.95112460e-01, ...,\n",
       "        -8.97911332e-01, -1.01315950e-03,  4.64252920e-01],\n",
       "       [ 1.71006276e+00, -1.65916002e+00, -4.83698570e-01, ...,\n",
       "        -4.47130272e-01,  2.14355603e+00,  4.64252920e-01],\n",
       "       [ 7.25365079e-01, -7.69779384e-01,  1.48357595e+00, ...,\n",
       "        -8.97911332e-01, -7.15869555e-01,  4.64252920e-01],\n",
       "       ...,\n",
       "       [ 8.10632351e-02, -9.15437092e-01,  1.51465861e+00, ...,\n",
       "         3.65078809e-03, -1.43072595e+00,  4.64252920e-01],\n",
       "       [-1.55518542e+00, -1.58550807e+00, -1.39815033e+00, ...,\n",
       "         3.65078809e-03, -1.43072595e+00, -4.56436177e+00],\n",
       "       [ 1.53153213e+00,  1.38369963e+00, -1.64087860e+00, ...,\n",
       "        -4.47130272e-01, -1.01315950e-03,  4.64252920e-01]])"
      ]
     },
     "execution_count": 37,
     "metadata": {},
     "output_type": "execute_result"
    }
   ],
   "source": [
    "#This line imports the StandardScaler class from the sklearn.preprocessing module\n",
    "from sklearn.preprocessing import StandardScaler \n",
    "#This line creates an instance of the StandardScaler class.\n",
    "scaler=StandardScaler() \n",
    "# fit: It calculates the mean and standard deviation of X_train\n",
    "# transform: It then uses these statistics to standardize X_train\n",
    "X_train=scaler.fit_transform(X_train)\n",
    "# transform uses the mean and standard deviation calculated from X_train to standardize X_test\n",
    "X_test=scaler.transform(X_test)\n",
    "X_test"
   ]
  },
  {
   "cell_type": "markdown",
   "id": "2e59a443-4206-4470-9de9-3ddf5b9b3080",
   "metadata": {},
   "source": [
    "# Logistic Regression"
   ]
  },
  {
   "cell_type": "code",
   "execution_count": 38,
   "id": "49853e76-fddf-41b7-ab91-5f77cba6aa11",
   "metadata": {},
   "outputs": [],
   "source": [
    "# This line imports the LogisticRegression class from the sklearn.linear_model module\n",
    "from sklearn.linear_model import LogisticRegression"
   ]
  },
  {
   "cell_type": "code",
   "execution_count": 39,
   "id": "1254b4e9-a846-48df-9de9-f8ad5942008a",
   "metadata": {},
   "outputs": [
    {
     "data": {
      "text/html": [
       "<style>#sk-container-id-1 {color: black;background-color: white;}#sk-container-id-1 pre{padding: 0;}#sk-container-id-1 div.sk-toggleable {background-color: white;}#sk-container-id-1 label.sk-toggleable__label {cursor: pointer;display: block;width: 100%;margin-bottom: 0;padding: 0.3em;box-sizing: border-box;text-align: center;}#sk-container-id-1 label.sk-toggleable__label-arrow:before {content: \"▸\";float: left;margin-right: 0.25em;color: #696969;}#sk-container-id-1 label.sk-toggleable__label-arrow:hover:before {color: black;}#sk-container-id-1 div.sk-estimator:hover label.sk-toggleable__label-arrow:before {color: black;}#sk-container-id-1 div.sk-toggleable__content {max-height: 0;max-width: 0;overflow: hidden;text-align: left;background-color: #f0f8ff;}#sk-container-id-1 div.sk-toggleable__content pre {margin: 0.2em;color: black;border-radius: 0.25em;background-color: #f0f8ff;}#sk-container-id-1 input.sk-toggleable__control:checked~div.sk-toggleable__content {max-height: 200px;max-width: 100%;overflow: auto;}#sk-container-id-1 input.sk-toggleable__control:checked~label.sk-toggleable__label-arrow:before {content: \"▾\";}#sk-container-id-1 div.sk-estimator input.sk-toggleable__control:checked~label.sk-toggleable__label {background-color: #d4ebff;}#sk-container-id-1 div.sk-label input.sk-toggleable__control:checked~label.sk-toggleable__label {background-color: #d4ebff;}#sk-container-id-1 input.sk-hidden--visually {border: 0;clip: rect(1px 1px 1px 1px);clip: rect(1px, 1px, 1px, 1px);height: 1px;margin: -1px;overflow: hidden;padding: 0;position: absolute;width: 1px;}#sk-container-id-1 div.sk-estimator {font-family: monospace;background-color: #f0f8ff;border: 1px dotted black;border-radius: 0.25em;box-sizing: border-box;margin-bottom: 0.5em;}#sk-container-id-1 div.sk-estimator:hover {background-color: #d4ebff;}#sk-container-id-1 div.sk-parallel-item::after {content: \"\";width: 100%;border-bottom: 1px solid gray;flex-grow: 1;}#sk-container-id-1 div.sk-label:hover label.sk-toggleable__label {background-color: #d4ebff;}#sk-container-id-1 div.sk-serial::before {content: \"\";position: absolute;border-left: 1px solid gray;box-sizing: border-box;top: 0;bottom: 0;left: 50%;z-index: 0;}#sk-container-id-1 div.sk-serial {display: flex;flex-direction: column;align-items: center;background-color: white;padding-right: 0.2em;padding-left: 0.2em;position: relative;}#sk-container-id-1 div.sk-item {position: relative;z-index: 1;}#sk-container-id-1 div.sk-parallel {display: flex;align-items: stretch;justify-content: center;background-color: white;position: relative;}#sk-container-id-1 div.sk-item::before, #sk-container-id-1 div.sk-parallel-item::before {content: \"\";position: absolute;border-left: 1px solid gray;box-sizing: border-box;top: 0;bottom: 0;left: 50%;z-index: -1;}#sk-container-id-1 div.sk-parallel-item {display: flex;flex-direction: column;z-index: 1;position: relative;background-color: white;}#sk-container-id-1 div.sk-parallel-item:first-child::after {align-self: flex-end;width: 50%;}#sk-container-id-1 div.sk-parallel-item:last-child::after {align-self: flex-start;width: 50%;}#sk-container-id-1 div.sk-parallel-item:only-child::after {width: 0;}#sk-container-id-1 div.sk-dashed-wrapped {border: 1px dashed gray;margin: 0 0.4em 0.5em 0.4em;box-sizing: border-box;padding-bottom: 0.4em;background-color: white;}#sk-container-id-1 div.sk-label label {font-family: monospace;font-weight: bold;display: inline-block;line-height: 1.2em;}#sk-container-id-1 div.sk-label-container {text-align: center;}#sk-container-id-1 div.sk-container {/* jupyter's `normalize.less` sets `[hidden] { display: none; }` but bootstrap.min.css set `[hidden] { display: none !important; }` so we also need the `!important` here to be able to override the default hidden behavior on the sphinx rendered scikit-learn.org. See: https://github.com/scikit-learn/scikit-learn/issues/21755 */display: inline-block !important;position: relative;}#sk-container-id-1 div.sk-text-repr-fallback {display: none;}</style><div id=\"sk-container-id-1\" class=\"sk-top-container\"><div class=\"sk-text-repr-fallback\"><pre>LogisticRegression()</pre><b>In a Jupyter environment, please rerun this cell to show the HTML representation or trust the notebook. <br />On GitHub, the HTML representation is unable to render, please try loading this page with nbviewer.org.</b></div><div class=\"sk-container\" hidden><div class=\"sk-item\"><div class=\"sk-estimator sk-toggleable\"><input class=\"sk-toggleable__control sk-hidden--visually\" id=\"sk-estimator-id-1\" type=\"checkbox\" checked><label for=\"sk-estimator-id-1\" class=\"sk-toggleable__label sk-toggleable__label-arrow\">LogisticRegression</label><div class=\"sk-toggleable__content\"><pre>LogisticRegression()</pre></div></div></div></div></div>"
      ],
      "text/plain": [
       "LogisticRegression()"
      ]
     },
     "execution_count": 39,
     "metadata": {},
     "output_type": "execute_result"
    }
   ],
   "source": [
    "# This line creates an instance of the LogisticRegression\n",
    "classifier = LogisticRegression()\n",
    "# Train the Classifier\n",
    "# X_train contains the feature data for training\n",
    "# y_train contains the target labels for training\n",
    "classifier.fit(X_train, y_train)"
   ]
  },
  {
   "cell_type": "code",
   "execution_count": 40,
   "id": "3bcf2a30-ab0f-4f60-b72d-443516a2c721",
   "metadata": {},
   "outputs": [],
   "source": [
    "# Make predictions on the test set\n",
    "y_pred=classifier.predict(X_test)\n",
    "y_pred_proba = classifier.predict_proba(X_test)"
   ]
  },
  {
   "cell_type": "code",
   "execution_count": 41,
   "id": "ee855a5a-089f-4891-8dd9-a62154766b85",
   "metadata": {},
   "outputs": [],
   "source": [
    "from sklearn.metrics import accuracy_score, classification_report"
   ]
  },
  {
   "cell_type": "code",
   "execution_count": 42,
   "id": "06d1b418-08d8-4158-adc8-b13e807beb07",
   "metadata": {},
   "outputs": [
    {
     "name": "stdout",
     "output_type": "stream",
     "text": [
      "0.9311926605504587\n"
     ]
    }
   ],
   "source": [
    "# Calculate accuracy\n",
    "score=accuracy_score(y_test,y_pred)\n",
    "# report = classification_report(y_test, y_pred)\n",
    "print(score)"
   ]
  },
  {
   "cell_type": "code",
   "execution_count": 43,
   "id": "ef9b1c09-4270-4fd6-835d-bb61c0f38279",
   "metadata": {},
   "outputs": [
    {
     "name": "stdout",
     "output_type": "stream",
     "text": [
      "Accuracy: 0.9311926605504587\n",
      "Precision: 0.9\n",
      "Recall: 0.93\n",
      "F1-Score: 0.91\n",
      "ROC AUC Score: 0.8194848546422783\n",
      "\n",
      "Confusion Matrix:\n",
      " [[702   0   0   0   0]\n",
      " [  3  93   3   0   0]\n",
      " [ 11  14  17   0   0]\n",
      " [  5   2  14   0   0]\n",
      " [  6   2   0   0   0]]\n",
      "\n",
      "Classification Report:\n",
      "               precision    recall  f1-score   support\n",
      "\n",
      "         0.0       0.97      1.00      0.98       702\n",
      "         1.0       0.84      0.94      0.89        99\n",
      "         2.0       0.50      0.40      0.45        42\n",
      "         3.0       0.00      0.00      0.00        21\n",
      "         4.0       0.00      0.00      0.00         8\n",
      "\n",
      "    accuracy                           0.93       872\n",
      "   macro avg       0.46      0.47      0.46       872\n",
      "weighted avg       0.90      0.93      0.91       872\n",
      "\n"
     ]
    },
    {
     "name": "stderr",
     "output_type": "stream",
     "text": [
      "C:\\Users\\Suren\\anaconda3\\Lib\\site-packages\\sklearn\\metrics\\_classification.py:1344: UndefinedMetricWarning: Precision and F-score are ill-defined and being set to 0.0 in labels with no predicted samples. Use `zero_division` parameter to control this behavior.\n",
      "  _warn_prf(average, modifier, msg_start, len(result))\n",
      "C:\\Users\\Suren\\anaconda3\\Lib\\site-packages\\sklearn\\metrics\\_classification.py:1344: UndefinedMetricWarning: Precision and F-score are ill-defined and being set to 0.0 in labels with no predicted samples. Use `zero_division` parameter to control this behavior.\n",
      "  _warn_prf(average, modifier, msg_start, len(result))\n",
      "C:\\Users\\Suren\\anaconda3\\Lib\\site-packages\\sklearn\\metrics\\_classification.py:1344: UndefinedMetricWarning: Precision and F-score are ill-defined and being set to 0.0 in labels with no predicted samples. Use `zero_division` parameter to control this behavior.\n",
      "  _warn_prf(average, modifier, msg_start, len(result))\n",
      "C:\\Users\\Suren\\anaconda3\\Lib\\site-packages\\sklearn\\metrics\\_classification.py:1344: UndefinedMetricWarning: Precision is ill-defined and being set to 0.0 in labels with no predicted samples. Use `zero_division` parameter to control this behavior.\n",
      "  _warn_prf(average, modifier, msg_start, len(result))\n"
     ]
    }
   ],
   "source": [
    "from sklearn.metrics import accuracy_score, classification_report, confusion_matrix, roc_auc_score, precision_score, recall_score, f1_score\n",
    "report = classification_report(y_test, y_pred)\n",
    "conf_matrix = confusion_matrix(y_test, y_pred)\n",
    "roc_auc = roc_auc_score(y_test, y_pred_proba, multi_class='ovr')\n",
    "# Calculate precision, recall, and F1-score\n",
    "precision = precision_score(y_test, y_pred, average='weighted')\n",
    "recall = recall_score(y_test, y_pred, average='weighted')\n",
    "f1 = f1_score(y_test, y_pred, average='weighted')\n",
    "print(\"Accuracy:\", score)\n",
    "print('Precision:', round(precision, 2))\n",
    "print('Recall:', round(recall, 2))\n",
    "print('F1-Score:', round(f1, 2))\n",
    "print(\"ROC AUC Score:\", roc_auc)\n",
    "print(\"\\nConfusion Matrix:\\n\", conf_matrix)\n",
    "print(\"\\nClassification Report:\\n\",report)"
   ]
  },
  {
   "cell_type": "markdown",
   "id": "43bc581d-8de0-46dd-a3c6-284986a3248b",
   "metadata": {},
   "source": [
    "# Decision Tree Regression"
   ]
  },
  {
   "cell_type": "code",
   "execution_count": 73,
   "id": "e138c52d-d21b-461a-8f1f-149767c4d962",
   "metadata": {},
   "outputs": [],
   "source": [
    "from sklearn.tree import DecisionTreeRegressor"
   ]
  },
  {
   "cell_type": "code",
   "execution_count": 74,
   "id": "157f51f9-3318-49fc-8beb-fb9e752ac178",
   "metadata": {},
   "outputs": [
    {
     "data": {
      "text/html": [
       "<style>#sk-container-id-5 {color: black;background-color: white;}#sk-container-id-5 pre{padding: 0;}#sk-container-id-5 div.sk-toggleable {background-color: white;}#sk-container-id-5 label.sk-toggleable__label {cursor: pointer;display: block;width: 100%;margin-bottom: 0;padding: 0.3em;box-sizing: border-box;text-align: center;}#sk-container-id-5 label.sk-toggleable__label-arrow:before {content: \"▸\";float: left;margin-right: 0.25em;color: #696969;}#sk-container-id-5 label.sk-toggleable__label-arrow:hover:before {color: black;}#sk-container-id-5 div.sk-estimator:hover label.sk-toggleable__label-arrow:before {color: black;}#sk-container-id-5 div.sk-toggleable__content {max-height: 0;max-width: 0;overflow: hidden;text-align: left;background-color: #f0f8ff;}#sk-container-id-5 div.sk-toggleable__content pre {margin: 0.2em;color: black;border-radius: 0.25em;background-color: #f0f8ff;}#sk-container-id-5 input.sk-toggleable__control:checked~div.sk-toggleable__content {max-height: 200px;max-width: 100%;overflow: auto;}#sk-container-id-5 input.sk-toggleable__control:checked~label.sk-toggleable__label-arrow:before {content: \"▾\";}#sk-container-id-5 div.sk-estimator input.sk-toggleable__control:checked~label.sk-toggleable__label {background-color: #d4ebff;}#sk-container-id-5 div.sk-label input.sk-toggleable__control:checked~label.sk-toggleable__label {background-color: #d4ebff;}#sk-container-id-5 input.sk-hidden--visually {border: 0;clip: rect(1px 1px 1px 1px);clip: rect(1px, 1px, 1px, 1px);height: 1px;margin: -1px;overflow: hidden;padding: 0;position: absolute;width: 1px;}#sk-container-id-5 div.sk-estimator {font-family: monospace;background-color: #f0f8ff;border: 1px dotted black;border-radius: 0.25em;box-sizing: border-box;margin-bottom: 0.5em;}#sk-container-id-5 div.sk-estimator:hover {background-color: #d4ebff;}#sk-container-id-5 div.sk-parallel-item::after {content: \"\";width: 100%;border-bottom: 1px solid gray;flex-grow: 1;}#sk-container-id-5 div.sk-label:hover label.sk-toggleable__label {background-color: #d4ebff;}#sk-container-id-5 div.sk-serial::before {content: \"\";position: absolute;border-left: 1px solid gray;box-sizing: border-box;top: 0;bottom: 0;left: 50%;z-index: 0;}#sk-container-id-5 div.sk-serial {display: flex;flex-direction: column;align-items: center;background-color: white;padding-right: 0.2em;padding-left: 0.2em;position: relative;}#sk-container-id-5 div.sk-item {position: relative;z-index: 1;}#sk-container-id-5 div.sk-parallel {display: flex;align-items: stretch;justify-content: center;background-color: white;position: relative;}#sk-container-id-5 div.sk-item::before, #sk-container-id-5 div.sk-parallel-item::before {content: \"\";position: absolute;border-left: 1px solid gray;box-sizing: border-box;top: 0;bottom: 0;left: 50%;z-index: -1;}#sk-container-id-5 div.sk-parallel-item {display: flex;flex-direction: column;z-index: 1;position: relative;background-color: white;}#sk-container-id-5 div.sk-parallel-item:first-child::after {align-self: flex-end;width: 50%;}#sk-container-id-5 div.sk-parallel-item:last-child::after {align-self: flex-start;width: 50%;}#sk-container-id-5 div.sk-parallel-item:only-child::after {width: 0;}#sk-container-id-5 div.sk-dashed-wrapped {border: 1px dashed gray;margin: 0 0.4em 0.5em 0.4em;box-sizing: border-box;padding-bottom: 0.4em;background-color: white;}#sk-container-id-5 div.sk-label label {font-family: monospace;font-weight: bold;display: inline-block;line-height: 1.2em;}#sk-container-id-5 div.sk-label-container {text-align: center;}#sk-container-id-5 div.sk-container {/* jupyter's `normalize.less` sets `[hidden] { display: none; }` but bootstrap.min.css set `[hidden] { display: none !important; }` so we also need the `!important` here to be able to override the default hidden behavior on the sphinx rendered scikit-learn.org. See: https://github.com/scikit-learn/scikit-learn/issues/21755 */display: inline-block !important;position: relative;}#sk-container-id-5 div.sk-text-repr-fallback {display: none;}</style><div id=\"sk-container-id-5\" class=\"sk-top-container\"><div class=\"sk-text-repr-fallback\"><pre>DecisionTreeRegressor(max_depth=2)</pre><b>In a Jupyter environment, please rerun this cell to show the HTML representation or trust the notebook. <br />On GitHub, the HTML representation is unable to render, please try loading this page with nbviewer.org.</b></div><div class=\"sk-container\" hidden><div class=\"sk-item\"><div class=\"sk-estimator sk-toggleable\"><input class=\"sk-toggleable__control sk-hidden--visually\" id=\"sk-estimator-id-5\" type=\"checkbox\" checked><label for=\"sk-estimator-id-5\" class=\"sk-toggleable__label sk-toggleable__label-arrow\">DecisionTreeRegressor</label><div class=\"sk-toggleable__content\"><pre>DecisionTreeRegressor(max_depth=2)</pre></div></div></div></div></div>"
      ],
      "text/plain": [
       "DecisionTreeRegressor(max_depth=2)"
      ]
     },
     "execution_count": 74,
     "metadata": {},
     "output_type": "execute_result"
    }
   ],
   "source": [
    "treemodel = DecisionTreeRegressor(max_depth = 2)\n",
    "treemodel"
   ]
  },
  {
   "cell_type": "code",
   "execution_count": 75,
   "id": "5edb3de9-3343-47dd-8f33-3da08a684728",
   "metadata": {},
   "outputs": [
    {
     "data": {
      "text/html": [
       "<style>#sk-container-id-6 {color: black;background-color: white;}#sk-container-id-6 pre{padding: 0;}#sk-container-id-6 div.sk-toggleable {background-color: white;}#sk-container-id-6 label.sk-toggleable__label {cursor: pointer;display: block;width: 100%;margin-bottom: 0;padding: 0.3em;box-sizing: border-box;text-align: center;}#sk-container-id-6 label.sk-toggleable__label-arrow:before {content: \"▸\";float: left;margin-right: 0.25em;color: #696969;}#sk-container-id-6 label.sk-toggleable__label-arrow:hover:before {color: black;}#sk-container-id-6 div.sk-estimator:hover label.sk-toggleable__label-arrow:before {color: black;}#sk-container-id-6 div.sk-toggleable__content {max-height: 0;max-width: 0;overflow: hidden;text-align: left;background-color: #f0f8ff;}#sk-container-id-6 div.sk-toggleable__content pre {margin: 0.2em;color: black;border-radius: 0.25em;background-color: #f0f8ff;}#sk-container-id-6 input.sk-toggleable__control:checked~div.sk-toggleable__content {max-height: 200px;max-width: 100%;overflow: auto;}#sk-container-id-6 input.sk-toggleable__control:checked~label.sk-toggleable__label-arrow:before {content: \"▾\";}#sk-container-id-6 div.sk-estimator input.sk-toggleable__control:checked~label.sk-toggleable__label {background-color: #d4ebff;}#sk-container-id-6 div.sk-label input.sk-toggleable__control:checked~label.sk-toggleable__label {background-color: #d4ebff;}#sk-container-id-6 input.sk-hidden--visually {border: 0;clip: rect(1px 1px 1px 1px);clip: rect(1px, 1px, 1px, 1px);height: 1px;margin: -1px;overflow: hidden;padding: 0;position: absolute;width: 1px;}#sk-container-id-6 div.sk-estimator {font-family: monospace;background-color: #f0f8ff;border: 1px dotted black;border-radius: 0.25em;box-sizing: border-box;margin-bottom: 0.5em;}#sk-container-id-6 div.sk-estimator:hover {background-color: #d4ebff;}#sk-container-id-6 div.sk-parallel-item::after {content: \"\";width: 100%;border-bottom: 1px solid gray;flex-grow: 1;}#sk-container-id-6 div.sk-label:hover label.sk-toggleable__label {background-color: #d4ebff;}#sk-container-id-6 div.sk-serial::before {content: \"\";position: absolute;border-left: 1px solid gray;box-sizing: border-box;top: 0;bottom: 0;left: 50%;z-index: 0;}#sk-container-id-6 div.sk-serial {display: flex;flex-direction: column;align-items: center;background-color: white;padding-right: 0.2em;padding-left: 0.2em;position: relative;}#sk-container-id-6 div.sk-item {position: relative;z-index: 1;}#sk-container-id-6 div.sk-parallel {display: flex;align-items: stretch;justify-content: center;background-color: white;position: relative;}#sk-container-id-6 div.sk-item::before, #sk-container-id-6 div.sk-parallel-item::before {content: \"\";position: absolute;border-left: 1px solid gray;box-sizing: border-box;top: 0;bottom: 0;left: 50%;z-index: -1;}#sk-container-id-6 div.sk-parallel-item {display: flex;flex-direction: column;z-index: 1;position: relative;background-color: white;}#sk-container-id-6 div.sk-parallel-item:first-child::after {align-self: flex-end;width: 50%;}#sk-container-id-6 div.sk-parallel-item:last-child::after {align-self: flex-start;width: 50%;}#sk-container-id-6 div.sk-parallel-item:only-child::after {width: 0;}#sk-container-id-6 div.sk-dashed-wrapped {border: 1px dashed gray;margin: 0 0.4em 0.5em 0.4em;box-sizing: border-box;padding-bottom: 0.4em;background-color: white;}#sk-container-id-6 div.sk-label label {font-family: monospace;font-weight: bold;display: inline-block;line-height: 1.2em;}#sk-container-id-6 div.sk-label-container {text-align: center;}#sk-container-id-6 div.sk-container {/* jupyter's `normalize.less` sets `[hidden] { display: none; }` but bootstrap.min.css set `[hidden] { display: none !important; }` so we also need the `!important` here to be able to override the default hidden behavior on the sphinx rendered scikit-learn.org. See: https://github.com/scikit-learn/scikit-learn/issues/21755 */display: inline-block !important;position: relative;}#sk-container-id-6 div.sk-text-repr-fallback {display: none;}</style><div id=\"sk-container-id-6\" class=\"sk-top-container\"><div class=\"sk-text-repr-fallback\"><pre>DecisionTreeRegressor(max_depth=2)</pre><b>In a Jupyter environment, please rerun this cell to show the HTML representation or trust the notebook. <br />On GitHub, the HTML representation is unable to render, please try loading this page with nbviewer.org.</b></div><div class=\"sk-container\" hidden><div class=\"sk-item\"><div class=\"sk-estimator sk-toggleable\"><input class=\"sk-toggleable__control sk-hidden--visually\" id=\"sk-estimator-id-6\" type=\"checkbox\" checked><label for=\"sk-estimator-id-6\" class=\"sk-toggleable__label sk-toggleable__label-arrow\">DecisionTreeRegressor</label><div class=\"sk-toggleable__content\"><pre>DecisionTreeRegressor(max_depth=2)</pre></div></div></div></div></div>"
      ],
      "text/plain": [
       "DecisionTreeRegressor(max_depth=2)"
      ]
     },
     "execution_count": 75,
     "metadata": {},
     "output_type": "execute_result"
    }
   ],
   "source": [
    "treemodel.fit(X_train,y_train)"
   ]
  },
  {
   "cell_type": "code",
   "execution_count": 76,
   "id": "093e8490-38b1-486d-a72a-4fdf60032804",
   "metadata": {},
   "outputs": [
    {
     "data": {
      "text/plain": [
       "[Text(0.5, 0.8333333333333334, 'x[12] <= -1.068\\nsquared_error = 0.499\\nsamples = 4939\\nvalue = 0.275'),\n",
       " Text(0.25, 0.5, 'x[12] <= -2.594\\nsquared_error = 0.409\\nsamples = 667\\nvalue = 1.39'),\n",
       " Text(0.125, 0.16666666666666666, 'squared_error = 0.228\\nsamples = 214\\nvalue = 2.121'),\n",
       " Text(0.375, 0.16666666666666666, 'squared_error = 0.122\\nsamples = 453\\nvalue = 1.044'),\n",
       " Text(0.75, 0.5, 'x[12] <= -1.015\\nsquared_error = 0.289\\nsamples = 4272\\nvalue = 0.1'),\n",
       " Text(0.625, 0.16666666666666666, 'squared_error = 1.569\\nsamples = 21\\nvalue = 0.619'),\n",
       " Text(0.875, 0.16666666666666666, 'squared_error = 0.281\\nsamples = 4251\\nvalue = 0.098')]"
      ]
     },
     "execution_count": 76,
     "metadata": {},
     "output_type": "execute_result"
    },
    {
     "data": {
      "image/png": "[encoded data removed]",
      "text/plain": [
       "<Figure size 1500x1000 with 1 Axes>"
      ]
     },
     "metadata": {},
     "output_type": "display_data"
    }
   ],
   "source": [
    "import matplotlib.pyplot as plt\n",
    "from sklearn import tree\n",
    "\n",
    "plt.figure(figsize = (15,10))\n",
    "tree.plot_tree(treemodel,filled = True)"
   ]
  },
  {
   "cell_type": "code",
   "execution_count": 78,
   "id": "051bdc6e-e3c2-4476-aa3f-3fca6be2f58f",
   "metadata": {},
   "outputs": [],
   "source": [
    "treemodel = DecisionTreeRegressor()\n",
    "treemodel.fit(X_train,y_train)\n",
    "y_pred_dt = treemodel.predict(X_test)"
   ]
  },
  {
   "cell_type": "code",
   "execution_count": 79,
   "id": "90378502-cfef-4459-9b93-f542f82413bd",
   "metadata": {},
   "outputs": [],
   "source": [
    "# from sklearn import tree\n",
    "# plt.figure(figsize = (10,15))\n",
    "# tree.plot_tree(treemodel,filled = True)"
   ]
  },
  {
   "cell_type": "code",
   "execution_count": null,
   "id": "9cad44a6-91b8-4f46-ad2d-a3213193dbda",
   "metadata": {},
   "outputs": [],
   "source": []
  },
  {
   "cell_type": "code",
   "execution_count": 80,
   "id": "8450d322-f71e-4456-a610-ff40892a2ab5",
   "metadata": {},
   "outputs": [],
   "source": [
    "from sklearn.metrics import accuracy_score,classification_report "
   ]
  },
  {
   "cell_type": "code",
   "execution_count": 81,
   "id": "a65fe960-66f9-4069-8c6b-3f8c49a15f16",
   "metadata": {},
   "outputs": [
    {
     "name": "stdout",
     "output_type": "stream",
     "text": [
      "0.9208715596330275\n"
     ]
    }
   ],
   "source": [
    "score_dt = accuracy_score(y_pred_dt,y_test)\n",
    "print(score_dt)"
   ]
  },
  {
   "cell_type": "code",
   "execution_count": 52,
   "id": "76bac69c-59b3-4024-9131-5da2f78b6784",
   "metadata": {},
   "outputs": [
    {
     "name": "stdout",
     "output_type": "stream",
     "text": [
      "Accuracy: 0.9311926605504587\n",
      "Precision: 0.93\n",
      "Recall: 0.93\n",
      "F1-Score: 0.93\n",
      "ROC AUC Score: 0.8194848546422783\n",
      "\n",
      "Confusion Matrix:\n",
      " [[674   8   9   6   5]\n",
      " [  3  93   1   2   0]\n",
      " [ 12   0  30   0   0]\n",
      " [  5   1   0  15   0]\n",
      " [  7   1   0   0   0]]\n",
      "\n",
      "Classification Report:\n",
      "               precision    recall  f1-score   support\n",
      "\n",
      "         0.0       0.97      1.00      0.98       702\n",
      "         1.0       0.84      0.94      0.89        99\n",
      "         2.0       0.50      0.40      0.45        42\n",
      "         3.0       0.00      0.00      0.00        21\n",
      "         4.0       0.00      0.00      0.00         8\n",
      "\n",
      "    accuracy                           0.93       872\n",
      "   macro avg       0.46      0.47      0.46       872\n",
      "weighted avg       0.90      0.93      0.91       872\n",
      "\n"
     ]
    }
   ],
   "source": [
    "# Calculate performance metrics\n",
    "report_dt = classification_report(y_test, y_pred_dt)\n",
    "conf_matrix_dt = confusion_matrix(y_test, y_pred_dt)\n",
    "roc_auc_dt = roc_auc_score(y_test, y_pred_proba, multi_class='ovr')\n",
    "# Calculate precision, recall, and F1-score\n",
    "precision_dt = precision_score(y_test, y_pred_dt, average='weighted')\n",
    "recall_dt = recall_score(y_test, y_pred_dt, average='weighted')\n",
    "f1_dt = f1_score(y_test, y_pred_dt, average='weighted')\n",
    "print(\"Accuracy:\", score_dt)\n",
    "print('Precision:', round(precision_dt, 2))\n",
    "print('Recall:', round(recall_dt, 2))\n",
    "print('F1-Score:', round(f1_dt, 2))\n",
    "print(\"ROC AUC Score:\", roc_auc_dt)\n",
    "print(\"\\nConfusion Matrix:\\n\", conf_matrix_dt)\n",
    "print(\"\\nClassification Report:\\n\",report)"
   ]
  },
  {
   "cell_type": "markdown",
   "id": "716f72d3-2c0b-467e-9b48-561e5372d9ee",
   "metadata": {},
   "source": [
    "# Random Forest Classifier"
   ]
  },
  {
   "cell_type": "code",
   "execution_count": 88,
   "id": "543ee70e-556e-4ff7-849b-9537e9d3f3c2",
   "metadata": {},
   "outputs": [
    {
     "data": {
      "text/plain": [
       "0.9621559633027523"
      ]
     },
     "execution_count": 88,
     "metadata": {},
     "output_type": "execute_result"
    }
   ],
   "source": [
    "from sklearn.metrics import accuracy_score, precision_score, recall_score, f1_score, confusion_matrix, classification_report\n",
    "from sklearn.ensemble import RandomForestClassifier\n",
    "# Initialize the Random Forest Classifier\n",
    "model_rf = RandomForestClassifier(n_estimators=100, random_state=42)\n",
    "\n",
    "# Train the model\n",
    "model_rf.fit(X_train, y_train)\n",
    "\n",
    "# Make predictions\n",
    "y_pred_rf = model_rf.predict(X_test)\n",
    "score_rf = accuracy_score(y_pred_rf,y_test)\n",
    "score_rf"
   ]
  },
  {
   "cell_type": "code",
   "execution_count": 54,
   "id": "d1f09fcc-9c4c-42e4-ac3c-a505ce246793",
   "metadata": {},
   "outputs": [
    {
     "name": "stdout",
     "output_type": "stream",
     "text": [
      "Accuracy: 0.9621559633027523\n",
      "Precision: 0.95\n",
      "Recall: 0.96\n",
      "F1-Score: 0.96\n",
      "ROC AUC Score: 0.8194848546422783\n",
      "\n",
      "Confusion Matrix:\n",
      " [[702   0   0   0   0]\n",
      " [  3  95   1   0   0]\n",
      " [ 11   0  31   0   0]\n",
      " [  5   2   3  11   0]\n",
      " [  7   1   0   0   0]]\n",
      "\n",
      "Classification Report:\n",
      "               precision    recall  f1-score   support\n",
      "\n",
      "         0.0       0.97      1.00      0.98       702\n",
      "         1.0       0.84      0.94      0.89        99\n",
      "         2.0       0.50      0.40      0.45        42\n",
      "         3.0       0.00      0.00      0.00        21\n",
      "         4.0       0.00      0.00      0.00         8\n",
      "\n",
      "    accuracy                           0.93       872\n",
      "   macro avg       0.46      0.47      0.46       872\n",
      "weighted avg       0.90      0.93      0.91       872\n",
      "\n"
     ]
    },
    {
     "name": "stderr",
     "output_type": "stream",
     "text": [
      "C:\\Users\\Suren\\anaconda3\\Lib\\site-packages\\sklearn\\metrics\\_classification.py:1344: UndefinedMetricWarning: Precision and F-score are ill-defined and being set to 0.0 in labels with no predicted samples. Use `zero_division` parameter to control this behavior.\n",
      "  _warn_prf(average, modifier, msg_start, len(result))\n",
      "C:\\Users\\Suren\\anaconda3\\Lib\\site-packages\\sklearn\\metrics\\_classification.py:1344: UndefinedMetricWarning: Precision and F-score are ill-defined and being set to 0.0 in labels with no predicted samples. Use `zero_division` parameter to control this behavior.\n",
      "  _warn_prf(average, modifier, msg_start, len(result))\n",
      "C:\\Users\\Suren\\anaconda3\\Lib\\site-packages\\sklearn\\metrics\\_classification.py:1344: UndefinedMetricWarning: Precision and F-score are ill-defined and being set to 0.0 in labels with no predicted samples. Use `zero_division` parameter to control this behavior.\n",
      "  _warn_prf(average, modifier, msg_start, len(result))\n",
      "C:\\Users\\Suren\\anaconda3\\Lib\\site-packages\\sklearn\\metrics\\_classification.py:1344: UndefinedMetricWarning: Precision is ill-defined and being set to 0.0 in labels with no predicted samples. Use `zero_division` parameter to control this behavior.\n",
      "  _warn_prf(average, modifier, msg_start, len(result))\n"
     ]
    }
   ],
   "source": [
    "# Calculate performance metrics\n",
    "score_rf = accuracy_score(y_pred_rf,y_test)\n",
    "report_rf = classification_report(y_test, y_pred_rf)\n",
    "conf_matrix_rf = confusion_matrix(y_test, y_pred_rf)\n",
    "roc_auc_rf = roc_auc_score(y_test, y_pred_proba, multi_class='ovr')\n",
    "# Calculate precision, recall, and F1-score\n",
    "precision_rf = precision_score(y_test, y_pred_rf, average='weighted')\n",
    "recall_rf = recall_score(y_test, y_pred_rf, average='weighted')\n",
    "f1_rf = f1_score(y_test, y_pred_rf, average='weighted')\n",
    "print(\"Accuracy:\", score_rf)\n",
    "print('Precision:', round(precision_rf, 2))\n",
    "print('Recall:', round(recall_rf, 2))\n",
    "print('F1-Score:', round(f1_rf, 2))\n",
    "print(\"ROC AUC Score:\", roc_auc_rf)\n",
    "print(\"\\nConfusion Matrix:\\n\", conf_matrix_rf)\n",
    "print(\"\\nClassification Report:\\n\",report)"
   ]
  },
  {
   "cell_type": "markdown",
   "id": "18d0f4c7-fecc-47e2-8533-dc40998994b8",
   "metadata": {},
   "source": [
    "# k-n"
   ]
  },
  {
   "cell_type": "code",
   "execution_count": 87,
   "id": "67f8effd-56d0-45eb-9282-1b6b0439c291",
   "metadata": {},
   "outputs": [
    {
     "data": {
      "text/html": [
       "<style>#sk-container-id-8 {color: black;background-color: white;}#sk-container-id-8 pre{padding: 0;}#sk-container-id-8 div.sk-toggleable {background-color: white;}#sk-container-id-8 label.sk-toggleable__label {cursor: pointer;display: block;width: 100%;margin-bottom: 0;padding: 0.3em;box-sizing: border-box;text-align: center;}#sk-container-id-8 label.sk-toggleable__label-arrow:before {content: \"▸\";float: left;margin-right: 0.25em;color: #696969;}#sk-container-id-8 label.sk-toggleable__label-arrow:hover:before {color: black;}#sk-container-id-8 div.sk-estimator:hover label.sk-toggleable__label-arrow:before {color: black;}#sk-container-id-8 div.sk-toggleable__content {max-height: 0;max-width: 0;overflow: hidden;text-align: left;background-color: #f0f8ff;}#sk-container-id-8 div.sk-toggleable__content pre {margin: 0.2em;color: black;border-radius: 0.25em;background-color: #f0f8ff;}#sk-container-id-8 input.sk-toggleable__control:checked~div.sk-toggleable__content {max-height: 200px;max-width: 100%;overflow: auto;}#sk-container-id-8 input.sk-toggleable__control:checked~label.sk-toggleable__label-arrow:before {content: \"▾\";}#sk-container-id-8 div.sk-estimator input.sk-toggleable__control:checked~label.sk-toggleable__label {background-color: #d4ebff;}#sk-container-id-8 div.sk-label input.sk-toggleable__control:checked~label.sk-toggleable__label {background-color: #d4ebff;}#sk-container-id-8 input.sk-hidden--visually {border: 0;clip: rect(1px 1px 1px 1px);clip: rect(1px, 1px, 1px, 1px);height: 1px;margin: -1px;overflow: hidden;padding: 0;position: absolute;width: 1px;}#sk-container-id-8 div.sk-estimator {font-family: monospace;background-color: #f0f8ff;border: 1px dotted black;border-radius: 0.25em;box-sizing: border-box;margin-bottom: 0.5em;}#sk-container-id-8 div.sk-estimator:hover {background-color: #d4ebff;}#sk-container-id-8 div.sk-parallel-item::after {content: \"\";width: 100%;border-bottom: 1px solid gray;flex-grow: 1;}#sk-container-id-8 div.sk-label:hover label.sk-toggleable__label {background-color: #d4ebff;}#sk-container-id-8 div.sk-serial::before {content: \"\";position: absolute;border-left: 1px solid gray;box-sizing: border-box;top: 0;bottom: 0;left: 50%;z-index: 0;}#sk-container-id-8 div.sk-serial {display: flex;flex-direction: column;align-items: center;background-color: white;padding-right: 0.2em;padding-left: 0.2em;position: relative;}#sk-container-id-8 div.sk-item {position: relative;z-index: 1;}#sk-container-id-8 div.sk-parallel {display: flex;align-items: stretch;justify-content: center;background-color: white;position: relative;}#sk-container-id-8 div.sk-item::before, #sk-container-id-8 div.sk-parallel-item::before {content: \"\";position: absolute;border-left: 1px solid gray;box-sizing: border-box;top: 0;bottom: 0;left: 50%;z-index: -1;}#sk-container-id-8 div.sk-parallel-item {display: flex;flex-direction: column;z-index: 1;position: relative;background-color: white;}#sk-container-id-8 div.sk-parallel-item:first-child::after {align-self: flex-end;width: 50%;}#sk-container-id-8 div.sk-parallel-item:last-child::after {align-self: flex-start;width: 50%;}#sk-container-id-8 div.sk-parallel-item:only-child::after {width: 0;}#sk-container-id-8 div.sk-dashed-wrapped {border: 1px dashed gray;margin: 0 0.4em 0.5em 0.4em;box-sizing: border-box;padding-bottom: 0.4em;background-color: white;}#sk-container-id-8 div.sk-label label {font-family: monospace;font-weight: bold;display: inline-block;line-height: 1.2em;}#sk-container-id-8 div.sk-label-container {text-align: center;}#sk-container-id-8 div.sk-container {/* jupyter's `normalize.less` sets `[hidden] { display: none; }` but bootstrap.min.css set `[hidden] { display: none !important; }` so we also need the `!important` here to be able to override the default hidden behavior on the sphinx rendered scikit-learn.org. See: https://github.com/scikit-learn/scikit-learn/issues/21755 */display: inline-block !important;position: relative;}#sk-container-id-8 div.sk-text-repr-fallback {display: none;}</style><div id=\"sk-container-id-8\" class=\"sk-top-container\"><div class=\"sk-text-repr-fallback\"><pre>KNeighborsRegressor()</pre><b>In a Jupyter environment, please rerun this cell to show the HTML representation or trust the notebook. <br />On GitHub, the HTML representation is unable to render, please try loading this page with nbviewer.org.</b></div><div class=\"sk-container\" hidden><div class=\"sk-item\"><div class=\"sk-estimator sk-toggleable\"><input class=\"sk-toggleable__control sk-hidden--visually\" id=\"sk-estimator-id-8\" type=\"checkbox\" checked><label for=\"sk-estimator-id-8\" class=\"sk-toggleable__label sk-toggleable__label-arrow\">KNeighborsRegressor</label><div class=\"sk-toggleable__content\"><pre>KNeighborsRegressor()</pre></div></div></div></div></div>"
      ],
      "text/plain": [
       "KNeighborsRegressor()"
      ]
     },
     "execution_count": 87,
     "metadata": {},
     "output_type": "execute_result"
    }
   ],
   "source": [
    "from sklearn.neighbors import KNeighborsRegressor\n",
    "\n",
    "# Create the K-Nearest Neighbors Regressor\n",
    "knn = KNeighborsRegressor(n_neighbors=5)\n",
    "# Fit the model to the training data\n",
    "knn.fit(X_train, y_train)"
   ]
  },
  {
   "cell_type": "code",
   "execution_count": 56,
   "id": "8f5ae205-13ac-4500-8c31-d813e975678b",
   "metadata": {},
   "outputs": [
    {
     "name": "stdout",
     "output_type": "stream",
     "text": [
      "Accuracy: 0.9094036697247706\n"
     ]
    }
   ],
   "source": [
    "y_pred_knn = knn.predict(X_test)\n",
    "\n",
    "# Calculate accuracy\n",
    "accuracy_knn = accuracy_score(y_test, y_pred_knn)\n",
    "print(\"Accuracy:\", accuracy_knn)\n"
   ]
  },
  {
   "cell_type": "code",
   "execution_count": 57,
   "id": "1b6d026d-485c-460d-b2ef-ed9868acd033",
   "metadata": {},
   "outputs": [
    {
     "name": "stdout",
     "output_type": "stream",
     "text": [
      "Accuracy: 0.9094036697247706\n",
      "Precision: 0.9\n",
      "Recall: 0.91\n",
      "F1-Score: 0.89\n",
      "ROC AUC Score: 0.8194848546422783\n",
      "\n",
      "Confusion Matrix:\n",
      " [[702   0   0   0   0]\n",
      " [ 23  70   6   0   0]\n",
      " [ 12  11  19   0   0]\n",
      " [  5   2  12   2   0]\n",
      " [  7   1   0   0   0]]\n",
      "\n",
      "Classification Report:\n",
      "               precision    recall  f1-score   support\n",
      "\n",
      "         0.0       0.97      1.00      0.98       702\n",
      "         1.0       0.84      0.94      0.89        99\n",
      "         2.0       0.50      0.40      0.45        42\n",
      "         3.0       0.00      0.00      0.00        21\n",
      "         4.0       0.00      0.00      0.00         8\n",
      "\n",
      "    accuracy                           0.93       872\n",
      "   macro avg       0.46      0.47      0.46       872\n",
      "weighted avg       0.90      0.93      0.91       872\n",
      "\n"
     ]
    },
    {
     "name": "stderr",
     "output_type": "stream",
     "text": [
      "C:\\Users\\Suren\\anaconda3\\Lib\\site-packages\\sklearn\\metrics\\_classification.py:1344: UndefinedMetricWarning: Precision and F-score are ill-defined and being set to 0.0 in labels with no predicted samples. Use `zero_division` parameter to control this behavior.\n",
      "  _warn_prf(average, modifier, msg_start, len(result))\n",
      "C:\\Users\\Suren\\anaconda3\\Lib\\site-packages\\sklearn\\metrics\\_classification.py:1344: UndefinedMetricWarning: Precision and F-score are ill-defined and being set to 0.0 in labels with no predicted samples. Use `zero_division` parameter to control this behavior.\n",
      "  _warn_prf(average, modifier, msg_start, len(result))\n",
      "C:\\Users\\Suren\\anaconda3\\Lib\\site-packages\\sklearn\\metrics\\_classification.py:1344: UndefinedMetricWarning: Precision and F-score are ill-defined and being set to 0.0 in labels with no predicted samples. Use `zero_division` parameter to control this behavior.\n",
      "  _warn_prf(average, modifier, msg_start, len(result))\n",
      "C:\\Users\\Suren\\anaconda3\\Lib\\site-packages\\sklearn\\metrics\\_classification.py:1344: UndefinedMetricWarning: Precision is ill-defined and being set to 0.0 in labels with no predicted samples. Use `zero_division` parameter to control this behavior.\n",
      "  _warn_prf(average, modifier, msg_start, len(result))\n"
     ]
    }
   ],
   "source": [
    "# Calculate performance metrics\n",
    "report_knn = classification_report(y_test, y_pred_knn)\n",
    "conf_matrix_knn = confusion_matrix(y_test, y_pred_knn)\n",
    "roc_auc_knn = roc_auc_score(y_test, y_pred_proba, multi_class='ovr')\n",
    "# Calculate precision, recall, and F1-score\n",
    "precision_knn = precision_score(y_test, y_pred_knn, average='weighted')\n",
    "recall_knn = recall_score(y_test, y_pred_knn, average='weighted')\n",
    "f1_knn = f1_score(y_test, y_pred_knn, average='weighted')\n",
    "print(\"Accuracy:\", accuracy_knn)\n",
    "print('Precision:', round(precision_knn, 2))\n",
    "print('Recall:', round(recall_knn, 2))\n",
    "print('F1-Score:', round(f1_knn, 2))\n",
    "print(\"ROC AUC Score:\", roc_auc_knn)\n",
    "print(\"\\nConfusion Matrix:\\n\", conf_matrix_knn)\n",
    "print(\"\\nClassification Report:\\n\",report)"
   ]
  },
  {
   "cell_type": "markdown",
   "id": "54d82a2b-55a3-40dd-8d1b-1fbb546f237a",
   "metadata": {},
   "source": [
    "# Gaussian Naive bayes"
   ]
  },
  {
   "cell_type": "code",
   "execution_count": 58,
   "id": "add38f0a-a313-442b-a0ce-04516dcc6745",
   "metadata": {},
   "outputs": [
    {
     "name": "stdout",
     "output_type": "stream",
     "text": [
      "Accuracy score is:\n",
      " 0.8956422018348624 \n",
      "\n"
     ]
    }
   ],
   "source": [
    "from sklearn.naive_bayes import GaussianNB\n",
    "gnb = GaussianNB()\n",
    "\n",
    "#fitting-\n",
    "gnb.fit(X_train, y_train)\n",
    "#predicting\n",
    "y_pred_gnb=gnb.predict(X_test)\n",
    "acc_score_gnb = accuracy_score(y_pred_gnb, y_test)\n",
    "print('Accuracy score is:\\n', acc_score_gnb, '\\n')"
   ]
  },
  {
   "cell_type": "code",
   "execution_count": 59,
   "id": "08846011-c22c-44eb-b80d-0a97e57f8117",
   "metadata": {},
   "outputs": [
    {
     "name": "stdout",
     "output_type": "stream",
     "text": [
      "Accuracy score is:\n",
      " 0.8956422018348624 \n",
      "\n",
      "Recall score is:\n",
      " 0.8956422018348624 \n",
      "\n",
      "Precision score is:\n",
      " 0.9287758198308657 \n",
      "\n",
      "F1 score is:\n",
      " 0.9079800103558302 \n",
      "\n",
      "Classification report is:\n",
      "               precision    recall  f1-score   support\n",
      "\n",
      "         0.0       0.95      0.96      0.96       692\n",
      "         1.0       0.94      0.65      0.77       142\n",
      "         2.0       0.50      0.55      0.53        38\n",
      "         3.0       0.00      0.00      0.00         0\n",
      "         4.0       0.00      0.00      0.00         0\n",
      "\n",
      "    accuracy                           0.90       872\n",
      "   macro avg       0.48      0.43      0.45       872\n",
      "weighted avg       0.93      0.90      0.91       872\n",
      "\n"
     ]
    },
    {
     "name": "stderr",
     "output_type": "stream",
     "text": [
      "C:\\Users\\Suren\\anaconda3\\Lib\\site-packages\\sklearn\\metrics\\_classification.py:1344: UndefinedMetricWarning: Recall is ill-defined and being set to 0.0 in labels with no true samples. Use `zero_division` parameter to control this behavior.\n",
      "  _warn_prf(average, modifier, msg_start, len(result))\n",
      "C:\\Users\\Suren\\anaconda3\\Lib\\site-packages\\sklearn\\metrics\\_classification.py:1344: UndefinedMetricWarning: Recall and F-score are ill-defined and being set to 0.0 in labels with no true samples. Use `zero_division` parameter to control this behavior.\n",
      "  _warn_prf(average, modifier, msg_start, len(result))\n",
      "C:\\Users\\Suren\\anaconda3\\Lib\\site-packages\\sklearn\\metrics\\_classification.py:1344: UndefinedMetricWarning: Recall and F-score are ill-defined and being set to 0.0 in labels with no true samples. Use `zero_division` parameter to control this behavior.\n",
      "  _warn_prf(average, modifier, msg_start, len(result))\n",
      "C:\\Users\\Suren\\anaconda3\\Lib\\site-packages\\sklearn\\metrics\\_classification.py:1344: UndefinedMetricWarning: Recall and F-score are ill-defined and being set to 0.0 in labels with no true samples. Use `zero_division` parameter to control this behavior.\n",
      "  _warn_prf(average, modifier, msg_start, len(result))\n"
     ]
    }
   ],
   "source": [
    "#importing libraries\n",
    "from sklearn.metrics import accuracy_score, classification_report, precision_score, recall_score, f1_score\n",
    "\n",
    "#scores\n",
    "acc_score_gnb = accuracy_score(y_pred_gnb, y_test)\n",
    "recall_scr_gnb = recall_score(y_pred_gnb, y_test, average='weighted')\n",
    "pre_scr_gnb = precision_score(y_pred_gnb, y_test, average='weighted')\n",
    "f1_scr_gnb = f1_score(y_pred_gnb, y_test, average='weighted')\n",
    "class_report = classification_report(y_pred_gnb, y_test)\n",
    "\n",
    "print('Accuracy score is:\\n', acc_score_gnb, '\\n')\n",
    "print('Recall score is:\\n', recall_scr_gnb, '\\n')\n",
    "print('Precision score is:\\n', pre_scr_gnb, '\\n')\n",
    "print('F1 score is:\\n', f1_scr_gnb, '\\n')\n",
    "print('Classification report is:\\n', class_report)"
   ]
  },
  {
   "cell_type": "markdown",
   "id": "ea623934-2014-4c01-89ff-5400b1e36d17",
   "metadata": {},
   "source": [
    "#  SVM"
   ]
  },
  {
   "cell_type": "code",
   "execution_count": 60,
   "id": "89c26b41-9fad-4e9d-b4c4-2726084f56f9",
   "metadata": {},
   "outputs": [
    {
     "name": "stdout",
     "output_type": "stream",
     "text": [
      "Accuracy score is:\n",
      " 0.9415137614678899 \n",
      "\n"
     ]
    }
   ],
   "source": [
    "from sklearn.svm import SVC\n",
    "from sklearn.metrics import accuracy_score\n",
    "\n",
    "clf = SVC(kernel='linear')\n",
    "\n",
    "clf.fit(X_train, y_train)\n",
    "\n",
    "# Make predictions\n",
    "y_pred_svc = clf.predict(X_test)\n",
    "\n",
    "acc_score_svc = accuracy_score(y_pred_svc, y_test)\n",
    "print('Accuracy score is:\\n', acc_score_svc, '\\n')"
   ]
  },
  {
   "cell_type": "code",
   "execution_count": 61,
   "id": "e8b94870-8669-4f60-a869-a9ac1596c850",
   "metadata": {},
   "outputs": [
    {
     "name": "stdout",
     "output_type": "stream",
     "text": [
      "Accuracy score is:\n",
      " 0.9415137614678899 \n",
      "\n",
      "Recall score is:\n",
      " 0.9415137614678899 \n",
      "\n",
      "Precision score is:\n",
      " 0.9729519970345659 \n",
      "\n",
      "F1 score is:\n",
      " 0.9568720417192355 \n",
      "\n",
      "Classification report is:\n",
      "               precision    recall  f1-score   support\n",
      "\n",
      "         0.0       0.95      0.96      0.96       692\n",
      "         1.0       0.94      0.65      0.77       142\n",
      "         2.0       0.50      0.55      0.53        38\n",
      "         3.0       0.00      0.00      0.00         0\n",
      "         4.0       0.00      0.00      0.00         0\n",
      "\n",
      "    accuracy                           0.90       872\n",
      "   macro avg       0.48      0.43      0.45       872\n",
      "weighted avg       0.93      0.90      0.91       872\n",
      "\n"
     ]
    },
    {
     "name": "stderr",
     "output_type": "stream",
     "text": [
      "C:\\Users\\Suren\\anaconda3\\Lib\\site-packages\\sklearn\\metrics\\_classification.py:1344: UndefinedMetricWarning: Recall is ill-defined and being set to 0.0 in labels with no true samples. Use `zero_division` parameter to control this behavior.\n",
      "  _warn_prf(average, modifier, msg_start, len(result))\n",
      "C:\\Users\\Suren\\anaconda3\\Lib\\site-packages\\sklearn\\metrics\\_classification.py:1344: UndefinedMetricWarning: Recall and F-score are ill-defined and being set to 0.0 in labels with no true samples. Use `zero_division` parameter to control this behavior.\n",
      "  _warn_prf(average, modifier, msg_start, len(result))\n",
      "C:\\Users\\Suren\\anaconda3\\Lib\\site-packages\\sklearn\\metrics\\_classification.py:1344: UndefinedMetricWarning: Recall and F-score are ill-defined and being set to 0.0 in labels with no true samples. Use `zero_division` parameter to control this behavior.\n",
      "  _warn_prf(average, modifier, msg_start, len(result))\n",
      "C:\\Users\\Suren\\anaconda3\\Lib\\site-packages\\sklearn\\metrics\\_classification.py:1344: UndefinedMetricWarning: Recall and F-score are ill-defined and being set to 0.0 in labels with no true samples. Use `zero_division` parameter to control this behavior.\n",
      "  _warn_prf(average, modifier, msg_start, len(result))\n"
     ]
    }
   ],
   "source": [
    "recall_scr_svc = recall_score(y_pred_svc, y_test, average='weighted')\n",
    "pre_scr_svc = precision_score(y_pred_svc, y_test, average='weighted')\n",
    "f1_scr_svc = f1_score(y_pred_svc, y_test, average='weighted')\n",
    "class_report_svc = classification_report(y_pred_svc, y_test)\n",
    "\n",
    "print('Accuracy score is:\\n', acc_score_svc, '\\n')\n",
    "print('Recall score is:\\n', recall_scr_svc, '\\n')\n",
    "print('Precision score is:\\n', pre_scr_svc, '\\n')\n",
    "print('F1 score is:\\n', f1_scr_svc, '\\n')\n",
    "print('Classification report is:\\n', class_report)\n"
   ]
  },
  {
   "cell_type": "code",
   "execution_count": 62,
   "id": "bf0d9b2b-8abc-43e9-89cd-58f9689ef8c5",
   "metadata": {},
   "outputs": [
    {
     "data": {
      "text/html": [
       "<div>\n",
       "<style scoped>\n",
       "    .dataframe tbody tr th:only-of-type {\n",
       "        vertical-align: middle;\n",
       "    }\n",
       "\n",
       "    .dataframe tbody tr th {\n",
       "        vertical-align: top;\n",
       "    }\n",
       "\n",
       "    .dataframe thead th {\n",
       "        text-align: right;\n",
       "    }\n",
       "</style>\n",
       "<table border=\"1\" class=\"dataframe\">\n",
       "  <thead>\n",
       "    <tr style=\"text-align: right;\">\n",
       "      <th></th>\n",
       "      <th>RecordID</th>\n",
       "      <th>AQI</th>\n",
       "      <th>PM10</th>\n",
       "      <th>PM2_5</th>\n",
       "      <th>NO2</th>\n",
       "      <th>SO2</th>\n",
       "      <th>O3</th>\n",
       "      <th>Temperature</th>\n",
       "      <th>Humidity</th>\n",
       "      <th>WindSpeed</th>\n",
       "      <th>RespiratoryCases</th>\n",
       "      <th>CardiovascularCases</th>\n",
       "      <th>HospitalAdmissions</th>\n",
       "      <th>HealthImpactScore</th>\n",
       "      <th>HealthImpactClass</th>\n",
       "    </tr>\n",
       "  </thead>\n",
       "  <tbody>\n",
       "    <tr>\n",
       "      <th>0</th>\n",
       "      <td>1</td>\n",
       "      <td>187.270059</td>\n",
       "      <td>295.853039</td>\n",
       "      <td>13.03856</td>\n",
       "      <td>6.639263</td>\n",
       "      <td>66.16115</td>\n",
       "      <td>54.62428</td>\n",
       "      <td>5.150335</td>\n",
       "      <td>84.424344</td>\n",
       "      <td>6.137755</td>\n",
       "      <td>7</td>\n",
       "      <td>5</td>\n",
       "      <td>1</td>\n",
       "      <td>97.244041</td>\n",
       "      <td>0.0</td>\n",
       "    </tr>\n",
       "  </tbody>\n",
       "</table>\n",
       "</div>"
      ],
      "text/plain": [
       "   RecordID         AQI        PM10     PM2_5       NO2       SO2        O3  \\\n",
       "0         1  187.270059  295.853039  13.03856  6.639263  66.16115  54.62428   \n",
       "\n",
       "   Temperature   Humidity  WindSpeed  RespiratoryCases  CardiovascularCases  \\\n",
       "0     5.150335  84.424344   6.137755                 7                    5   \n",
       "\n",
       "   HospitalAdmissions  HealthImpactScore  HealthImpactClass  \n",
       "0                   1          97.244041                0.0  "
      ]
     },
     "execution_count": 62,
     "metadata": {},
     "output_type": "execute_result"
    }
   ],
   "source": [
    "df.head(1)"
   ]
  },
  {
   "cell_type": "markdown",
   "id": "fc0504f9-c228-4433-b367-44d3610b53b3",
   "metadata": {},
   "source": [
    "# Making predictions"
   ]
  },
  {
   "cell_type": "code",
   "execution_count": 63,
   "id": "ce06a905-5ef0-4155-91b6-5d0d692d1d76",
   "metadata": {},
   "outputs": [],
   "source": [
    "input_data = {\n",
    "    'AQI': [187.2700594],\n",
    "    'PM10': [295.8530392],\n",
    "    'PM2_5': [13.03856044],\n",
    "    'NO2': [6.639263013],\n",
    "    'SO2': [66.16114965],\n",
    "    'O3': [54.62427998],\n",
    "    'Temperature': [5.150335038],\n",
    "    'Humidity': [84.42434365],\n",
    "    'WindSpeed': [6.137755447],\n",
    "    'RespiratoryCases': [7],\n",
    "    'CardiovascularCases': [5],\n",
    "    'HospitalAdmissions': [1],\n",
    "    'HealthImpactScore' : [97.244041]\n",
    "}"
   ]
  },
  {
   "cell_type": "code",
   "execution_count": 64,
   "id": "1beba4b7-4157-4bd4-ac3e-8f3788b3c317",
   "metadata": {},
   "outputs": [
    {
     "data": {
      "text/html": [
       "<div>\n",
       "<style scoped>\n",
       "    .dataframe tbody tr th:only-of-type {\n",
       "        vertical-align: middle;\n",
       "    }\n",
       "\n",
       "    .dataframe tbody tr th {\n",
       "        vertical-align: top;\n",
       "    }\n",
       "\n",
       "    .dataframe thead th {\n",
       "        text-align: right;\n",
       "    }\n",
       "</style>\n",
       "<table border=\"1\" class=\"dataframe\">\n",
       "  <thead>\n",
       "    <tr style=\"text-align: right;\">\n",
       "      <th></th>\n",
       "      <th>AQI</th>\n",
       "      <th>PM10</th>\n",
       "      <th>PM2_5</th>\n",
       "      <th>NO2</th>\n",
       "      <th>SO2</th>\n",
       "      <th>O3</th>\n",
       "      <th>Temperature</th>\n",
       "      <th>Humidity</th>\n",
       "      <th>WindSpeed</th>\n",
       "      <th>RespiratoryCases</th>\n",
       "      <th>CardiovascularCases</th>\n",
       "      <th>HospitalAdmissions</th>\n",
       "      <th>HealthImpactScore</th>\n",
       "    </tr>\n",
       "  </thead>\n",
       "  <tbody>\n",
       "    <tr>\n",
       "      <th>0</th>\n",
       "      <td>187.270059</td>\n",
       "      <td>295.853039</td>\n",
       "      <td>13.03856</td>\n",
       "      <td>6.639263</td>\n",
       "      <td>66.16115</td>\n",
       "      <td>54.62428</td>\n",
       "      <td>5.150335</td>\n",
       "      <td>84.424344</td>\n",
       "      <td>6.137755</td>\n",
       "      <td>7</td>\n",
       "      <td>5</td>\n",
       "      <td>1</td>\n",
       "      <td>97.244041</td>\n",
       "    </tr>\n",
       "  </tbody>\n",
       "</table>\n",
       "</div>"
      ],
      "text/plain": [
       "          AQI        PM10     PM2_5       NO2       SO2        O3  \\\n",
       "0  187.270059  295.853039  13.03856  6.639263  66.16115  54.62428   \n",
       "\n",
       "   Temperature   Humidity  WindSpeed  RespiratoryCases  CardiovascularCases  \\\n",
       "0     5.150335  84.424344   6.137755                 7                    5   \n",
       "\n",
       "   HospitalAdmissions  HealthImpactScore  \n",
       "0                   1          97.244041  "
      ]
     },
     "execution_count": 64,
     "metadata": {},
     "output_type": "execute_result"
    }
   ],
   "source": [
    "input_df = pd.DataFrame(input_data)\n",
    "input_df"
   ]
  },
  {
   "cell_type": "code",
   "execution_count": 65,
   "id": "bb7770c0-146b-4afc-ab61-54dcc39d4e38",
   "metadata": {},
   "outputs": [
    {
     "name": "stdout",
     "output_type": "stream",
     "text": [
      "Estimasi Health Class prediction in Logistic Regression : 0\n"
     ]
    },
    {
     "name": "stderr",
     "output_type": "stream",
     "text": [
      "C:\\Users\\Suren\\anaconda3\\Lib\\site-packages\\sklearn\\base.py:432: UserWarning: X has feature names, but LogisticRegression was fitted without feature names\n",
      "  warnings.warn(\n"
     ]
    }
   ],
   "source": [
    "# Logistic Regression prediction\n",
    "prediction = classifier.predict(input_df)\n",
    "\n",
    "prediction_formatted = round(prediction[0])\n",
    "\n",
    "print(\"Estimasi Health Class prediction in Logistic Regression :\", prediction_formatted)"
   ]
  },
  {
   "cell_type": "code",
   "execution_count": 92,
   "id": "baf32354",
   "metadata": {},
   "outputs": [
    {
     "name": "stdout",
     "output_type": "stream",
     "text": [
      "Estimasi Health Class prediction in Decision Tree Regressor: 4\n"
     ]
    },
    {
     "name": "stderr",
     "output_type": "stream",
     "text": [
      "C:\\Users\\Suren\\anaconda3\\Lib\\site-packages\\sklearn\\base.py:432: UserWarning: X has feature names, but DecisionTreeRegressor was fitted without feature names\n",
      "  warnings.warn(\n"
     ]
    }
   ],
   "source": [
    "#  Decision Tree Classifier prediction\n",
    "prediction = treemodel.predict(input_df)\n",
    "\n",
    "prediction_formatted = round(prediction[0])\n",
    "\n",
    "print(\"Estimasi Health Class prediction in Decision Tree Regressor:\", prediction_formatted)"
   ]
  },
  {
   "cell_type": "code",
   "execution_count": 91,
   "id": "b5f186ec",
   "metadata": {},
   "outputs": [
    {
     "name": "stdout",
     "output_type": "stream",
     "text": [
      "Estimasi Health Class  prediction in GNB: 3\n"
     ]
    },
    {
     "name": "stderr",
     "output_type": "stream",
     "text": [
      "C:\\Users\\Suren\\anaconda3\\Lib\\site-packages\\sklearn\\base.py:432: UserWarning: X has feature names, but GaussianNB was fitted without feature names\n",
      "  warnings.warn(\n"
     ]
    }
   ],
   "source": [
    "#k-n\n",
    "prediction = gnb.predict(input_df)\n",
    "\n",
    "prediction_formatted = round(prediction[0])\n",
    "\n",
    "print(\"Estimasi Health Class  prediction in GNB:\", prediction_formatted)"
   ]
  },
  {
   "cell_type": "code",
   "execution_count": 68,
   "id": "f5d98467-4258-47f6-94f3-b33a669f91f3",
   "metadata": {},
   "outputs": [
    {
     "name": "stdout",
     "output_type": "stream",
     "text": [
      "Estimasi Health Class  prediction in KNN: 0\n"
     ]
    },
    {
     "name": "stderr",
     "output_type": "stream",
     "text": [
      "C:\\Users\\Suren\\anaconda3\\Lib\\site-packages\\sklearn\\base.py:432: UserWarning: X has feature names, but KNeighborsClassifier was fitted without feature names\n",
      "  warnings.warn(\n"
     ]
    }
   ],
   "source": [
    "# Gaussian Naive bayes\n",
    "prediction = knn.predict(input_df)\n",
    "\n",
    "prediction_formatted = round(prediction[0])\n",
    "\n",
    "print(\"Estimasi Health Class  prediction in KNN:\", prediction_formatted)"
   ]
  },
  {
   "cell_type": "code",
   "execution_count": 69,
   "id": "49c8de2d-52db-4ed7-9e6a-322ab3bf0da6",
   "metadata": {},
   "outputs": [
    {
     "name": "stdout",
     "output_type": "stream",
     "text": [
      "      True Value  Logistic Regression Prediction  Decision Tree Prediction  \\\n",
      "2479         0.0                             0.0                       0.0   \n",
      "4438         0.0                             0.0                       0.0   \n",
      "2758         0.0                             0.0                       0.0   \n",
      "1976         0.0                             0.0                       0.0   \n",
      "1759         0.0                             0.0                       0.0   \n",
      "...          ...                             ...                       ...   \n",
      "4014         0.0                             0.0                       0.0   \n",
      "763          0.0                             0.0                       0.0   \n",
      "4516         0.0                             0.0                       0.0   \n",
      "2231         3.0                             2.0                       3.0   \n",
      "4311         0.0                             0.0                       0.0   \n",
      "\n",
      "      Random Forest Prediction  K-Neighbor  GausianNB  Support Vector Machine  \n",
      "2479                       0.0         0.0        0.0                     0.0  \n",
      "4438                       0.0         0.0        0.0                     0.0  \n",
      "2758                       0.0         0.0        0.0                     0.0  \n",
      "1976                       0.0         0.0        0.0                     0.0  \n",
      "1759                       0.0         0.0        0.0                     0.0  \n",
      "...                        ...         ...        ...                     ...  \n",
      "4014                       0.0         0.0        0.0                     0.0  \n",
      "763                        0.0         0.0        0.0                     0.0  \n",
      "4516                       0.0         0.0        0.0                     0.0  \n",
      "2231                       3.0         2.0        2.0                     2.0  \n",
      "4311                       0.0         0.0        0.0                     0.0  \n",
      "\n",
      "[872 rows x 7 columns]\n"
     ]
    }
   ],
   "source": [
    "prediction_table = pd.DataFrame({\n",
    "    'True Value': y_test,\n",
    "    'Logistic Regression Prediction': y_pred,\n",
    "    'Decision Tree Prediction': y_pred_dt,\n",
    "    'Random Forest Prediction': y_pred_rf,\n",
    "    'K-Neighbor': y_pred_knn,\n",
    "    'GausianNB': y_pred_gnb,\n",
    "    'Support Vector Machine':y_pred_svc})\n",
    "print(prediction_table)"
   ]
  },
  {
   "cell_type": "code",
   "execution_count": 70,
   "id": "4d6d4dbb-34ea-4a63-a823-f63398a9b739",
   "metadata": {},
   "outputs": [
    {
     "name": "stdout",
     "output_type": "stream",
     "text": [
      "                 Model  Accuracy  Precision    Recall  f1-score\n",
      "0  Logistic Regression  0.931193   0.896566  0.931193  0.931193\n",
      "1        Decision Tree  0.931193   0.928378  0.931193  0.929689\n",
      "2        Random Forest  0.962156   0.953094  0.962156  0.955246\n",
      "3                  KNN  0.909404   0.897955  0.909404  0.893181\n",
      "4           GaussianNB  0.895642   0.928776  0.895642  0.907980\n",
      "5                  SVC  0.941514   0.972952  0.941514  0.956872\n"
     ]
    }
   ],
   "source": [
    "comparison_table = pd.DataFrame({\n",
    "    'Model': ['Logistic Regression', 'Decision Tree', 'Random Forest','KNN','GaussianNB','SVC'],\n",
    "    'Accuracy': [score,score_dt, score_rf, accuracy_knn ,acc_score_gnb,acc_score_svc],\n",
    "    'Precision': [precision, precision_dt, precision_rf, precision_knn ,pre_scr_gnb,pre_scr_svc],\n",
    "    'Recall': [recall, recall_dt, recall_rf, recall_knn ,recall_scr_gnb,recall_scr_svc],\n",
    "    'f1-score': [recall, f1_dt, f1_rf, f1_knn ,f1_scr_gnb,f1_scr_svc],\n",
    "})\n",
    "\n",
    "print(comparison_table)"
   ]
  },
  {
   "cell_type": "code",
   "execution_count": 71,
   "id": "ca8574f9-d72a-41dc-b769-99ccf67b45c8",
   "metadata": {},
   "outputs": [
    {
     "data": {
      "text/html": [
       "<div>\n",
       "<style scoped>\n",
       "    .dataframe tbody tr th:only-of-type {\n",
       "        vertical-align: middle;\n",
       "    }\n",
       "\n",
       "    .dataframe tbody tr th {\n",
       "        vertical-align: top;\n",
       "    }\n",
       "\n",
       "    .dataframe thead th {\n",
       "        text-align: right;\n",
       "    }\n",
       "</style>\n",
       "<table border=\"1\" class=\"dataframe\">\n",
       "  <thead>\n",
       "    <tr style=\"text-align: right;\">\n",
       "      <th></th>\n",
       "      <th>Model</th>\n",
       "      <th>Accuracy</th>\n",
       "      <th>Precision</th>\n",
       "      <th>Recall</th>\n",
       "      <th>f1-score</th>\n",
       "    </tr>\n",
       "  </thead>\n",
       "  <tbody>\n",
       "    <tr>\n",
       "      <th>0</th>\n",
       "      <td>Logistic Regression</td>\n",
       "      <td>0.931193</td>\n",
       "      <td>0.896566</td>\n",
       "      <td>0.931193</td>\n",
       "      <td>0.931193</td>\n",
       "    </tr>\n",
       "    <tr>\n",
       "      <th>1</th>\n",
       "      <td>Decision Tree</td>\n",
       "      <td>0.931193</td>\n",
       "      <td>0.928378</td>\n",
       "      <td>0.931193</td>\n",
       "      <td>0.929689</td>\n",
       "    </tr>\n",
       "    <tr>\n",
       "      <th>2</th>\n",
       "      <td>Random Forest</td>\n",
       "      <td>0.962156</td>\n",
       "      <td>0.953094</td>\n",
       "      <td>0.962156</td>\n",
       "      <td>0.955246</td>\n",
       "    </tr>\n",
       "    <tr>\n",
       "      <th>3</th>\n",
       "      <td>KNN</td>\n",
       "      <td>0.909404</td>\n",
       "      <td>0.897955</td>\n",
       "      <td>0.909404</td>\n",
       "      <td>0.893181</td>\n",
       "    </tr>\n",
       "    <tr>\n",
       "      <th>4</th>\n",
       "      <td>GaussianNB</td>\n",
       "      <td>0.895642</td>\n",
       "      <td>0.928776</td>\n",
       "      <td>0.895642</td>\n",
       "      <td>0.907980</td>\n",
       "    </tr>\n",
       "    <tr>\n",
       "      <th>5</th>\n",
       "      <td>SVC</td>\n",
       "      <td>0.941514</td>\n",
       "      <td>0.972952</td>\n",
       "      <td>0.941514</td>\n",
       "      <td>0.956872</td>\n",
       "    </tr>\n",
       "  </tbody>\n",
       "</table>\n",
       "</div>"
      ],
      "text/plain": [
       "                 Model  Accuracy  Precision    Recall  f1-score\n",
       "0  Logistic Regression  0.931193   0.896566  0.931193  0.931193\n",
       "1        Decision Tree  0.931193   0.928378  0.931193  0.929689\n",
       "2        Random Forest  0.962156   0.953094  0.962156  0.955246\n",
       "3                  KNN  0.909404   0.897955  0.909404  0.893181\n",
       "4           GaussianNB  0.895642   0.928776  0.895642  0.907980\n",
       "5                  SVC  0.941514   0.972952  0.941514  0.956872"
      ]
     },
     "execution_count": 71,
     "metadata": {},
     "output_type": "execute_result"
    }
   ],
   "source": [
    "scorecomp=pd.DataFrame(comparison_table)\n",
    "#saving file-\n",
    "scorecomp.to_csv('score_comp.csv',index=False)\n",
    "scorecomp"
   ]
  },
  {
   "cell_type": "code",
   "execution_count": null,
   "id": "2b49ceeb-b26d-47ed-b126-aa9dc13bb1f1",
   "metadata": {},
   "outputs": [],
   "source": []
  }
 ],
 "metadata": {
  "kernelspec": {
   "display_name": "Python 3 (ipykernel)",
   "language": "python",
   "name": "python3"
  },
  "language_info": {
   "codemirror_mode": {
    "name": "ipython",
    "version": 3
   },
   "file_extension": ".py",
   "mimetype": "text/x-python",
   "name": "python",
   "nbconvert_exporter": "python",
   "pygments_lexer": "ipython3",
   "version": "3.11.7"
  }
 },
 "nbformat": 4,
 "nbformat_minor": 5
}
